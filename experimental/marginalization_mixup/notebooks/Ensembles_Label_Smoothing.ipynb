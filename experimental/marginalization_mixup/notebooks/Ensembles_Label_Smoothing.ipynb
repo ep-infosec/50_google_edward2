{
  "cells": [
    {
      "cell_type": "markdown",
      "metadata": {
        "id": "8eOBqxbrQweW"
      },
      "source": [
        "Licensed under the Apache License, Version 2.0."
      ]
    },
    {
      "cell_type": "markdown",
      "metadata": {
        "id": "VwgJPHtIKTP2"
      },
      "source": [
        "# Setup"
      ]
    },
    {
      "cell_type": "code",
      "execution_count": null,
      "metadata": {
        "id": "kuGSkJSnLwX_"
      },
      "outputs": [],
      "source": [
        "import numpy as np\n",
        "import pandas as pd\n",
      ]
    },
    {
      "cell_type": "code",
      "execution_count": null,
      "metadata": {
        "id": "OdYcfV-MtxEk"
      },
      "outputs": [],
      "source": [
        "def get_experiment_measurements(experiment, step=-1):\n",
        "  data = []\n",
        "  for work_unit in experiment.get_work_units():\n",
        "    measurements = work_unit.parameters\n",
        "    for series in work_unit.list_measurement_series():\n",
        "      if len(series.measurements) \u003e= abs(step):\n",
        "        measurement = series.measurements[step]\n",
        "        measurements[series.label] = measurement.objective_value\n",
        "    data.append(measurements)\n",
        "\n",
        "  df = pd.DataFrame(data)\n",
        "  return df"
      ]
    },
    {
      "cell_type": "code",
      "execution_count": null,
      "metadata": {
        "id": "7AsflMdifrJQ"
      },
      "outputs": [],
      "source": [
        "def create_flatboard_data_query(experiment, hparams_to_average_over,\n",
        "                                filters={}, hparams_prefix={}):\n",
        "  \"\"\"\n",
        "  Filters is a dict which indicates which kind of hparams to filter out. One\n",
        "  example filter would be {use_ensemble_bn: False}. This will remove all work\n",
        "  units which have hyper-parameter use_ensemble_bn=False.\n",
        "  Hparams_prefix is a dictionary specifies which hparams to append to the data\n",
        "  query in the beginning of the hparams string. For example, hparams_prefix=\n",
        "  {use_ensemble_bn: False} appends \"use_ensemble_bn:False\" in the beginning of \n",
        "  each hparams string.\n",
        "  \"\"\"\n",
        "  work_units = [w for w in list(experiment.get_work_units()) if w.is_completed]\n",
        "  hparams = [h for h in work_units[0].parameters.keys() if h not in hparams_to_average_over]\n",
        "    \n",
        "  hparams_to_wids = {}\n",
        "  for work_unit in work_units:\n",
        "    hyps = {}\n",
        "    if any(item in work_unit.parameters.items() for item in filters.items()):\n",
        "      continue\n",
        "    hyps = hparams_prefix.copy()\n",
        "    hyps.update({k:v for k, v in work_unit.parameters.items() if k in hparams})\n",
        "    hyps = str(hyps)\n",
        "    if hyps not in hparams_to_wids:\n",
        "      hparams_to_wids[hyps] = [work_unit.id]\n",
        "    else:\n",
        "      hparams_to_wids[hyps].append(work_unit.id)\n",
        "\n",
        "  data_query = []\n",
        "  for hyps, wids in hparams_to_wids.items():\n",
        "    data_query.append(f\"# {hyps}\\n\")\n",
        "    for wid in wids:\n",
        "      data_query.append(f\"/xm_measurements/{experiment.id}/{wid}\\n\")\n",
        "    data_query.append(\"\\n\")\n",
        "  return \"\".join(data_query)"
      ]
    },
    {
      "cell_type": "markdown",
      "metadata": {
        "id": "hHpQYDdencew"
      },
      "source": [
        "## Select an XManager experiment ID\n",
        "In this example, we use https://xm2a.corp.google.com/experiments/11411082."
      ]
    },
    {
      "cell_type": "code",
      "execution_count": null,
      "metadata": {
        "id": "BrfBnwcBbLLX"
      },
      "outputs": [],
      "source": [
        "xm_client = xmanager_api.XManagerApi(xm_deployment_env='alphabet')\n",
        "def average_results(df, experiment, hparams_to_average_over):\n",
        "  hparams = list(experiment.get_work_units())[0].parameters.keys()\n",
        "  groups = [h for h in hparams if h not in hparams_to_average_over]\n",
        "  print('groups = {}'.format(groups))\n",
        "  df = df.groupby(groups).mean()\n",
        "  return df\n",
        "\n",
        "hparams_to_average_over = ['seed']\n"
      ]
    },
    {
      "cell_type": "markdown",
      "metadata": {
        "id": "6O-fPbMSbTxx"
      },
      "source": [
        "# Dropout"
      ]
    },
    {
      "cell_type": "markdown",
      "metadata": {
        "id": "dWJyU8GnjLyK"
      },
      "source": [
        "## 17568917"
      ]
    },
    {
      "cell_type": "code",
      "execution_count": null,
      "metadata": {
        "id": "GkVUSAPDRx9T"
      },
      "outputs": [],
      "source": [
        "xid = 17568917 \n",
        "experiment_17568917 = xm_client.get_experiment(xid)\n",
        "raw_df_17568917 = get_experiment_measurements(experiment_17568917)"
      ]
    },
    {
      "cell_type": "code",
      "execution_count": null,
      "metadata": {
        "colab": {
          "height": 252
        },
        "executionInfo": {
          "elapsed": 596,
          "status": "ok",
          "timestamp": 1601312402513,
          "user": {
            "displayName": "Ghassen Jerfel",
            "photoUrl": "https://lh3.googleusercontent.com/-evET3OcsU5g/AAAAAAAAAAI/AAAAAAAABIE/AuuFyTqHyCc/s64/photo.jpg",
            "userId": "12697290324410609870"
          },
          "user_tz": 420
        },
        "id": "EpE5mJ8sRyAP",
        "outputId": "2e033f4e-a319-46b2-b22d-e0d828aad790"
      },
      "outputs": [
        {
          "name": "stdout",
          "output_type": "stream",
          "text": [
            "groups = ['l2', 'label_smoothing']\n"
          ]
        },
        {
          "data": {
            "text/html": [
              "\u003cdiv\u003e\n",
              "\u003cstyle scoped\u003e\n",
              "    .dataframe tbody tr th:only-of-type {\n",
              "        vertical-align: middle;\n",
              "    }\n",
              "\n",
              "    .dataframe tbody tr th {\n",
              "        vertical-align: top;\n",
              "    }\n",
              "\n",
              "    .dataframe thead th {\n",
              "        text-align: right;\n",
              "    }\n",
              "\u003c/style\u003e\n",
              "\u003ctable border=\"1\" class=\"dataframe\"\u003e\n",
              "  \u003cthead\u003e\n",
              "    \u003ctr style=\"text-align: right;\"\u003e\n",
              "      \u003cth\u003e\u003c/th\u003e\n",
              "      \u003cth\u003e\u003c/th\u003e\n",
              "      \u003cth\u003etest_accuracy\u003c/th\u003e\n",
              "      \u003cth\u003etest_ece\u003c/th\u003e\n",
              "      \u003cth\u003etest_log_likelihood\u003c/th\u003e\n",
              "      \u003cth\u003etest_accuracy_mean_corrupted\u003c/th\u003e\n",
              "    \u003c/tr\u003e\n",
              "    \u003ctr\u003e\n",
              "      \u003cth\u003el2\u003c/th\u003e\n",
              "      \u003cth\u003elabel_smoothing\u003c/th\u003e\n",
              "      \u003cth\u003e\u003c/th\u003e\n",
              "      \u003cth\u003e\u003c/th\u003e\n",
              "      \u003cth\u003e\u003c/th\u003e\n",
              "      \u003cth\u003e\u003c/th\u003e\n",
              "    \u003c/tr\u003e\n",
              "  \u003c/thead\u003e\n",
              "  \u003ctbody\u003e\n",
              "    \u003ctr\u003e\n",
              "      \u003cth rowspan=\"5\" valign=\"top\"\u003e0.0003\u003c/th\u003e\n",
              "      \u003cth\u003e0.1\u003c/th\u003e\n",
              "      \u003ctd\u003e0.958025\u003c/td\u003e\n",
              "      \u003ctd\u003e0.074549\u003c/td\u003e\n",
              "      \u003ctd\u003e-0.232668\u003c/td\u003e\n",
              "      \u003ctd\u003e0.693504\u003c/td\u003e\n",
              "    \u003c/tr\u003e\n",
              "    \u003ctr\u003e\n",
              "      \u003cth\u003e0.2\u003c/th\u003e\n",
              "      \u003ctd\u003e0.956003\u003c/td\u003e\n",
              "      \u003ctd\u003e0.156041\u003c/td\u003e\n",
              "      \u003ctd\u003e-0.327715\u003c/td\u003e\n",
              "      \u003ctd\u003e0.705453\u003c/td\u003e\n",
              "    \u003c/tr\u003e\n",
              "    \u003ctr\u003e\n",
              "      \u003cth\u003e0.5\u003c/th\u003e\n",
              "      \u003ctd\u003e0.955661\u003c/td\u003e\n",
              "      \u003ctd\u003e0.418672\u003c/td\u003e\n",
              "      \u003ctd\u003e-0.698333\u003c/td\u003e\n",
              "      \u003ctd\u003e0.694913\u003c/td\u003e\n",
              "    \u003c/tr\u003e\n",
              "    \u003ctr\u003e\n",
              "      \u003cth\u003e0.7\u003c/th\u003e\n",
              "      \u003ctd\u003e0.954633\u003c/td\u003e\n",
              "      \u003ctd\u003e0.593910\u003c/td\u003e\n",
              "      \u003ctd\u003e-1.073678\u003c/td\u003e\n",
              "      \u003ctd\u003e0.697483\u003c/td\u003e\n",
              "    \u003c/tr\u003e\n",
              "    \u003ctr\u003e\n",
              "      \u003cth\u003e0.9\u003c/th\u003e\n",
              "      \u003ctd\u003e0.946649\u003c/td\u003e\n",
              "      \u003ctd\u003e0.760517\u003c/td\u003e\n",
              "      \u003ctd\u003e-1.707701\u003c/td\u003e\n",
              "      \u003ctd\u003e0.689625\u003c/td\u003e\n",
              "    \u003c/tr\u003e\n",
              "  \u003c/tbody\u003e\n",
              "\u003c/table\u003e\n",
              "\u003c/div\u003e"
            ],
            "text/plain": [
              "                        test_accuracy  ...  test_accuracy_mean_corrupted\n",
              "l2     label_smoothing                 ...                              \n",
              "0.0003 0.1                   0.958025  ...                      0.693504\n",
              "       0.2                   0.956003  ...                      0.705453\n",
              "       0.5                   0.955661  ...                      0.694913\n",
              "       0.7                   0.954633  ...                      0.697483\n",
              "       0.9                   0.946649  ...                      0.689625\n",
              "\n",
              "[5 rows x 4 columns]"
            ]
          },
          "execution_count": 47,
          "metadata": {
            "tags": []
          },
          "output_type": "execute_result"
        }
      ],
      "source": [
        "filtered_df = raw_df_17568917[raw_df_17568917['l2']==0.0003]\n",
        "filtered_df = filtered_df[filtered_df['label_smoothing'] \u003e 0]\n",
        "filtered_df = filtered_df[filtered_df['label_smoothing'] \u003c 1]\n",
        "\n",
        "df_17568917 = average_results(filtered_df, experiment_17568917, ['seed'])\n",
        "df_17568917[['test_accuracy', 'test_ece', 'test_log_likelihood', 'test_accuracy_mean_corrupted', ]].sort_values(by=['test_accuracy'], ascending=False)"
      ]
    },
    {
      "cell_type": "code",
      "execution_count": null,
      "metadata": {
        "colab": {
          "height": 835
        },
        "executionInfo": {
          "elapsed": 763,
          "status": "ok",
          "timestamp": 1601312544746,
          "user": {
            "displayName": "Ghassen Jerfel",
            "photoUrl": "https://lh3.googleusercontent.com/-evET3OcsU5g/AAAAAAAAAAI/AAAAAAAABIE/AuuFyTqHyCc/s64/photo.jpg",
            "userId": "12697290324410609870"
          },
          "user_tz": 420
        },
        "id": "JC7NGJLWqBir",
        "outputId": "efa3fe5a-8272-40f9-af0d-85fa88dda2cb"
      },
      "outputs": [
        {
          "data": {
            "text/plain": [
              "\u003cmatplotlib.axes._subplots.AxesSubplot at 0x7fcae77bcc50\u003e"
            ]
          },
          "execution_count": 60,
          "metadata": {
            "tags": []
          },
          "output_type": "execute_result"
        },
        {
          "data": {
            "image/png": "iVBORw0KGgoAAAANSUhEUgAAAYUAAAELCAYAAAA2mZrgAAAABHNCSVQICAgIfAhkiAAAAAlwSFlz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\nJBSEEEIYSSgIIYQwklAQQghh9P9nW/DlzncoJwAAAABJRU5ErkJggg==\n",
            "text/plain": [
              "\u003cFigure size 600x400 with 1 Axes\u003e"
            ]
          },
          "metadata": {
            "tags": []
          },
          "output_type": "display_data"
        },
        {
          "data": {
            "image/png": "iVBORw0KGgoAAAANSUhEUgAAAZIAAAELCAYAAADz6wBxAAAABHNCSVQICAgIfAhkiAAAAAlwSFlz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\nrkJggg==\n",
            "text/plain": [
              "\u003cFigure size 600x400 with 1 Axes\u003e"
            ]
          },
          "metadata": {
            "tags": []
          },
          "output_type": "display_data"
        },
        {
          "data": {
            "image/png": "iVBORw0KGgoAAAANSUhEUgAAAZIAAAELCAYAAADz6wBxAAAABHNCSVQICAgIfAhkiAAAAAlwSFlz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\nH2N4B8UWCID3AAAAAElFTkSuQmCC\n",
            "text/plain": [
              "\u003cFigure size 600x400 with 1 Axes\u003e"
            ]
          },
          "metadata": {
            "tags": []
          },
          "output_type": "display_data"
        }
      ],
      "source": [
        "df_17568917.plot(y=['test_ece', 'test_ece_mean_corrupted'], use_index=True)\n",
        "df_17568917.plot(y=['test_accuracy'], use_index=True)\n",
        "df_17568917.plot(y=['test_accuracy_mean_corrupted'], use_index=True)"
      ]
    },
    {
      "cell_type": "markdown",
      "metadata": {
        "id": "-8HbtdoyjQUu"
      },
      "source": [
        "## 17568544"
      ]
    },
    {
      "cell_type": "code",
      "execution_count": null,
      "metadata": {
        "id": "81sSzyA8jQ-C"
      },
      "outputs": [],
      "source": [
        "xid = 17568544 \n",
        "experiment_17568544 = xm_client.get_experiment(xid)\n",
        "raw_df_17568544 = get_experiment_measurements(experiment_17568544)"
      ]
    },
    {
      "cell_type": "code",
      "execution_count": null,
      "metadata": {
        "colab": {
          "height": 252
        },
        "executionInfo": {
          "elapsed": 2280,
          "status": "ok",
          "timestamp": 1601312409197,
          "user": {
            "displayName": "Ghassen Jerfel",
            "photoUrl": "https://lh3.googleusercontent.com/-evET3OcsU5g/AAAAAAAAAAI/AAAAAAAABIE/AuuFyTqHyCc/s64/photo.jpg",
            "userId": "12697290324410609870"
          },
          "user_tz": 420
        },
        "id": "5AqO0_GvjRBL",
        "outputId": "97c4b698-a4f3-4b44-8574-8e6dab46e11f"
      },
      "outputs": [
        {
          "name": "stdout",
          "output_type": "stream",
          "text": [
            "groups = ['l2', 'label_smoothing']\n"
          ]
        },
        {
          "data": {
            "text/html": [
              "\u003cdiv\u003e\n",
              "\u003cstyle scoped\u003e\n",
              "    .dataframe tbody tr th:only-of-type {\n",
              "        vertical-align: middle;\n",
              "    }\n",
              "\n",
              "    .dataframe tbody tr th {\n",
              "        vertical-align: top;\n",
              "    }\n",
              "\n",
              "    .dataframe thead th {\n",
              "        text-align: right;\n",
              "    }\n",
              "\u003c/style\u003e\n",
              "\u003ctable border=\"1\" class=\"dataframe\"\u003e\n",
              "  \u003cthead\u003e\n",
              "    \u003ctr style=\"text-align: right;\"\u003e\n",
              "      \u003cth\u003e\u003c/th\u003e\n",
              "      \u003cth\u003e\u003c/th\u003e\n",
              "      \u003cth\u003etest_accuracy\u003c/th\u003e\n",
              "      \u003cth\u003etest_ece\u003c/th\u003e\n",
              "      \u003cth\u003etest_log_likelihood\u003c/th\u003e\n",
              "      \u003cth\u003etest_accuracy_mean_corrupted\u003c/th\u003e\n",
              "    \u003c/tr\u003e\n",
              "    \u003ctr\u003e\n",
              "      \u003cth\u003el2\u003c/th\u003e\n",
              "      \u003cth\u003elabel_smoothing\u003c/th\u003e\n",
              "      \u003cth\u003e\u003c/th\u003e\n",
              "      \u003cth\u003e\u003c/th\u003e\n",
              "      \u003cth\u003e\u003c/th\u003e\n",
              "      \u003cth\u003e\u003c/th\u003e\n",
              "    \u003c/tr\u003e\n",
              "  \u003c/thead\u003e\n",
              "  \u003ctbody\u003e\n",
              "    \u003ctr\u003e\n",
              "      \u003cth rowspan=\"5\" valign=\"top\"\u003e0.0003\u003c/th\u003e\n",
              "      \u003cth\u003e0.1\u003c/th\u003e\n",
              "      \u003ctd\u003e0.795162\u003c/td\u003e\n",
              "      \u003ctd\u003e0.046574\u003c/td\u003e\n",
              "      \u003ctd\u003e-0.947801\u003c/td\u003e\n",
              "      \u003ctd\u003e0.450093\u003c/td\u003e\n",
              "    \u003c/tr\u003e\n",
              "    \u003ctr\u003e\n",
              "      \u003cth\u003e0.2\u003c/th\u003e\n",
              "      \u003ctd\u003e0.793448\u003c/td\u003e\n",
              "      \u003ctd\u003e0.097831\u003c/td\u003e\n",
              "      \u003ctd\u003e-1.058563\u003c/td\u003e\n",
              "      \u003ctd\u003e0.449943\u003c/td\u003e\n",
              "    \u003c/tr\u003e\n",
              "    \u003ctr\u003e\n",
              "      \u003cth\u003e0.9\u003c/th\u003e\n",
              "      \u003ctd\u003e0.790810\u003c/td\u003e\n",
              "      \u003ctd\u003e0.697874\u003c/td\u003e\n",
              "      \u003ctd\u003e-2.730126\u003c/td\u003e\n",
              "      \u003ctd\u003e0.447884\u003c/td\u003e\n",
              "    \u003c/tr\u003e\n",
              "    \u003ctr\u003e\n",
              "      \u003cth\u003e0.5\u003c/th\u003e\n",
              "      \u003ctd\u003e0.787349\u003c/td\u003e\n",
              "      \u003ctd\u003e0.342348\u003c/td\u003e\n",
              "      \u003ctd\u003e-1.466800\u003c/td\u003e\n",
              "      \u003ctd\u003e0.447303\u003c/td\u003e\n",
              "    \u003c/tr\u003e\n",
              "    \u003ctr\u003e\n",
              "      \u003cth\u003e0.7\u003c/th\u003e\n",
              "      \u003ctd\u003e0.784402\u003c/td\u003e\n",
              "      \u003ctd\u003e0.513810\u003c/td\u003e\n",
              "      \u003ctd\u003e-1.887750\u003c/td\u003e\n",
              "      \u003ctd\u003e0.446536\u003c/td\u003e\n",
              "    \u003c/tr\u003e\n",
              "  \u003c/tbody\u003e\n",
              "\u003c/table\u003e\n",
              "\u003c/div\u003e"
            ],
            "text/plain": [
              "                        test_accuracy  ...  test_accuracy_mean_corrupted\n",
              "l2     label_smoothing                 ...                              \n",
              "0.0003 0.1                   0.795162  ...                      0.450093\n",
              "       0.2                   0.793448  ...                      0.449943\n",
              "       0.9                   0.790810  ...                      0.447884\n",
              "       0.5                   0.787349  ...                      0.447303\n",
              "       0.7                   0.784402  ...                      0.446536\n",
              "\n",
              "[5 rows x 4 columns]"
            ]
          },
          "execution_count": 49,
          "metadata": {
            "tags": []
          },
          "output_type": "execute_result"
        }
      ],
      "source": [
        "filtered_df = raw_df_17568544[raw_df_17568544['l2']==0.0003]\n",
        "filtered_df = filtered_df[filtered_df['label_smoothing'] \u003e 0]\n",
        "filtered_df = filtered_df[filtered_df['label_smoothing'] \u003c 1]\n",
        "\n",
        "df_17568544 = average_results(filtered_df, experiment_17568544, ['seed'])\n",
        "df_17568544[['test_accuracy', 'test_ece', 'test_log_likelihood', 'test_accuracy_mean_corrupted']].sort_values(by=['test_accuracy'], ascending=False)"
      ]
    },
    {
      "cell_type": "code",
      "execution_count": null,
      "metadata": {
        "colab": {
          "height": 835
        },
        "executionInfo": {
          "elapsed": 743,
          "status": "ok",
          "timestamp": 1601312547604,
          "user": {
            "displayName": "Ghassen Jerfel",
            "photoUrl": "https://lh3.googleusercontent.com/-evET3OcsU5g/AAAAAAAAAAI/AAAAAAAABIE/AuuFyTqHyCc/s64/photo.jpg",
            "userId": "12697290324410609870"
          },
          "user_tz": 420
        },
        "id": "BGZ1U0bfqA_i",
        "outputId": "0cbb4100-ee60-46ab-dbe7-a1ec678d2be6"
      },
      "outputs": [
        {
          "data": {
            "text/plain": [
              "\u003cmatplotlib.axes._subplots.AxesSubplot at 0x7fcae767e0f0\u003e"
            ]
          },
          "execution_count": 61,
          "metadata": {
            "tags": []
          },
          "output_type": "execute_result"
        },
        {
          "data": {
            "image/png": "iVBORw0KGgoAAAANSUhEUgAAAYUAAAELCAYAAAA2mZrgAAAABHNCSVQICAgIfAhkiAAAAAlwSFlz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\nYII=\n",
            "text/plain": [
              "\u003cFigure size 600x400 with 1 Axes\u003e"
            ]
          },
          "metadata": {
            "tags": []
          },
          "output_type": "display_data"
        },
        {
          "data": {
            "image/png": "iVBORw0KGgoAAAANSUhEUgAAAZIAAAELCAYAAADz6wBxAAAABHNCSVQICAgIfAhkiAAAAAlwSFlz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\nRK5CYII=\n",
            "text/plain": [
              "\u003cFigure size 600x400 with 1 Axes\u003e"
            ]
          },
          "metadata": {
            "tags": []
          },
          "output_type": "display_data"
        },
        {
          "data": {
            "image/png": "iVBORw0KGgoAAAANSUhEUgAAAZgAAAELCAYAAADkyZC4AAAABHNCSVQICAgIfAhkiAAAAAlwSFlz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\nAAAAAElFTkSuQmCC\n",
            "text/plain": [
              "\u003cFigure size 600x400 with 1 Axes\u003e"
            ]
          },
          "metadata": {
            "tags": []
          },
          "output_type": "display_data"
        }
      ],
      "source": [
        "df_17568544.plot(y=['test_ece', 'test_ece_mean_corrupted'], use_index=True)\n",
        "df_17568544.plot(y=['test_accuracy'], use_index=True)\n",
        "df_17568544.plot(y=['test_accuracy_mean_corrupted'], use_index=True)"
      ]
    },
    {
      "cell_type": "markdown",
      "metadata": {
        "id": "qokCycQJbVR1"
      },
      "source": [
        "# Naive Ensembles"
      ]
    },
    {
      "cell_type": "markdown",
      "metadata": {
        "id": "0aTBYkckjlvK"
      },
      "source": [
        "## 17569447"
      ]
    },
    {
      "cell_type": "code",
      "execution_count": null,
      "metadata": {
        "id": "d3Rxm8A7jjZx"
      },
      "outputs": [],
      "source": [
        "xid = 17569447 \n",
        "experiment_17569447 = xm_client.get_experiment(xid)\n",
        "raw_df_17569447 = get_experiment_measurements(experiment_17569447)"
      ]
    },
    {
      "cell_type": "code",
      "execution_count": null,
      "metadata": {
        "colab": {
          "height": 252
        },
        "executionInfo": {
          "elapsed": 539,
          "status": "ok",
          "timestamp": 1601312414831,
          "user": {
            "displayName": "Ghassen Jerfel",
            "photoUrl": "https://lh3.googleusercontent.com/-evET3OcsU5g/AAAAAAAAAAI/AAAAAAAABIE/AuuFyTqHyCc/s64/photo.jpg",
            "userId": "12697290324410609870"
          },
          "user_tz": 420
        },
        "id": "uKUz7zdabVpE",
        "outputId": "79e64d25-b25e-4ceb-83de-b342ee0e53e7"
      },
      "outputs": [
        {
          "name": "stdout",
          "output_type": "stream",
          "text": [
            "groups = ['l2', 'label_smoothing']\n"
          ]
        },
        {
          "data": {
            "text/html": [
              "\u003cdiv\u003e\n",
              "\u003cstyle scoped\u003e\n",
              "    .dataframe tbody tr th:only-of-type {\n",
              "        vertical-align: middle;\n",
              "    }\n",
              "\n",
              "    .dataframe tbody tr th {\n",
              "        vertical-align: top;\n",
              "    }\n",
              "\n",
              "    .dataframe thead th {\n",
              "        text-align: right;\n",
              "    }\n",
              "\u003c/style\u003e\n",
              "\u003ctable border=\"1\" class=\"dataframe\"\u003e\n",
              "  \u003cthead\u003e\n",
              "    \u003ctr style=\"text-align: right;\"\u003e\n",
              "      \u003cth\u003e\u003c/th\u003e\n",
              "      \u003cth\u003e\u003c/th\u003e\n",
              "      \u003cth\u003etest_accuracy\u003c/th\u003e\n",
              "      \u003cth\u003etest_ece\u003c/th\u003e\n",
              "      \u003cth\u003etest_log_likelihood\u003c/th\u003e\n",
              "      \u003cth\u003etest_accuracy_mean_corrupted\u003c/th\u003e\n",
              "      \u003cth\u003etest_ece_mean_corrupted\u003c/th\u003e\n",
              "    \u003c/tr\u003e\n",
              "    \u003ctr\u003e\n",
              "      \u003cth\u003el2\u003c/th\u003e\n",
              "      \u003cth\u003elabel_smoothing\u003c/th\u003e\n",
              "      \u003cth\u003e\u003c/th\u003e\n",
              "      \u003cth\u003e\u003c/th\u003e\n",
              "      \u003cth\u003e\u003c/th\u003e\n",
              "      \u003cth\u003e\u003c/th\u003e\n",
              "      \u003cth\u003e\u003c/th\u003e\n",
              "    \u003c/tr\u003e\n",
              "  \u003c/thead\u003e\n",
              "  \u003ctbody\u003e\n",
              "    \u003ctr\u003e\n",
              "      \u003cth rowspan=\"5\" valign=\"top\"\u003e0.0001\u003c/th\u003e\n",
              "      \u003cth\u003e0.1\u003c/th\u003e\n",
              "      \u003ctd\u003e0.964193\u003c/td\u003e\n",
              "      \u003ctd\u003e0.083263\u003c/td\u003e\n",
              "      \u003ctd\u003e-0.204051\u003c/td\u003e\n",
              "      \u003ctd\u003e0.767846\u003c/td\u003e\n",
              "      \u003ctd\u003e0.090849\u003c/td\u003e\n",
              "    \u003c/tr\u003e\n",
              "    \u003ctr\u003e\n",
              "      \u003cth\u003e0.2\u003c/th\u003e\n",
              "      \u003ctd\u003e0.963096\u003c/td\u003e\n",
              "      \u003ctd\u003e0.169739\u003c/td\u003e\n",
              "      \u003ctd\u003e-0.302807\u003c/td\u003e\n",
              "      \u003ctd\u003e0.765039\u003c/td\u003e\n",
              "      \u003ctd\u003e0.130732\u003c/td\u003e\n",
              "    \u003c/tr\u003e\n",
              "    \u003ctr\u003e\n",
              "      \u003cth\u003e0.5\u003c/th\u003e\n",
              "      \u003ctd\u003e0.961143\u003c/td\u003e\n",
              "      \u003ctd\u003e0.430348\u003c/td\u003e\n",
              "      \u003ctd\u003e-0.687267\u003c/td\u003e\n",
              "      \u003ctd\u003e0.757770\u003c/td\u003e\n",
              "      \u003ctd\u003e0.296526\u003c/td\u003e\n",
              "    \u003c/tr\u003e\n",
              "    \u003ctr\u003e\n",
              "      \u003cth\u003e0.7\u003c/th\u003e\n",
              "      \u003ctd\u003e0.960115\u003c/td\u003e\n",
              "      \u003ctd\u003e0.602514\u003c/td\u003e\n",
              "      \u003ctd\u003e-1.069028\u003c/td\u003e\n",
              "      \u003ctd\u003e0.759215\u003c/td\u003e\n",
              "      \u003ctd\u003e0.434235\u003c/td\u003e\n",
              "    \u003c/tr\u003e\n",
              "    \u003ctr\u003e\n",
              "      \u003cth\u003e0.9\u003c/th\u003e\n",
              "      \u003ctd\u003e0.946820\u003c/td\u003e\n",
              "      \u003ctd\u003e0.762575\u003c/td\u003e\n",
              "      \u003ctd\u003e-1.714489\u003c/td\u003e\n",
              "      \u003ctd\u003e0.747359\u003c/td\u003e\n",
              "      \u003ctd\u003e0.572765\u003c/td\u003e\n",
              "    \u003c/tr\u003e\n",
              "  \u003c/tbody\u003e\n",
              "\u003c/table\u003e\n",
              "\u003c/div\u003e"
            ],
            "text/plain": [
              "                        test_accuracy  ...  test_ece_mean_corrupted\n",
              "l2     label_smoothing                 ...                         \n",
              "0.0001 0.1                   0.964193  ...                 0.090849\n",
              "       0.2                   0.963096  ...                 0.130732\n",
              "       0.5                   0.961143  ...                 0.296526\n",
              "       0.7                   0.960115  ...                 0.434235\n",
              "       0.9                   0.946820  ...                 0.572765\n",
              "\n",
              "[5 rows x 5 columns]"
            ]
          },
          "execution_count": 51,
          "metadata": {
            "tags": []
          },
          "output_type": "execute_result"
        }
      ],
      "source": [
        "filtered_df = raw_df_17569447[raw_df_17569447['l2']==0.0001]\n",
        "filtered_df = filtered_df[filtered_df['label_smoothing'] \u003e 0]\n",
        "filtered_df = filtered_df[filtered_df['label_smoothing'] \u003c 1]\n",
        "\n",
        "df_17569447 = average_results(filtered_df, experiment_17569447, ['seed'])\n",
        "df_17569447[['test_accuracy', 'test_ece', 'test_log_likelihood', 'test_accuracy_mean_corrupted', 'test_ece_mean_corrupted']].sort_values(by=['test_accuracy'], ascending=False)"
      ]
    },
    {
      "cell_type": "code",
      "execution_count": null,
      "metadata": {
        "colab": {
          "height": 835
        },
        "executionInfo": {
          "elapsed": 708,
          "status": "ok",
          "timestamp": 1601312555377,
          "user": {
            "displayName": "Ghassen Jerfel",
            "photoUrl": "https://lh3.googleusercontent.com/-evET3OcsU5g/AAAAAAAAAAI/AAAAAAAABIE/AuuFyTqHyCc/s64/photo.jpg",
            "userId": "12697290324410609870"
          },
          "user_tz": 420
        },
        "id": "hwS4NjLnqAJO",
        "outputId": "0797abad-2695-4f6f-87d4-57a5cddda2ff"
      },
      "outputs": [
        {
          "data": {
            "text/plain": [
              "\u003cmatplotlib.axes._subplots.AxesSubplot at 0x7fcae73f4710\u003e"
            ]
          },
          "execution_count": 63,
          "metadata": {
            "tags": []
          },
          "output_type": "execute_result"
        },
        {
          "data": {
            "image/png": "iVBORw0KGgoAAAANSUhEUgAAAYUAAAELCAYAAAA2mZrgAAAABHNCSVQICAgIfAhkiAAAAAlwSFlz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\nAElFTkSuQmCC\n",
            "text/plain": [
              "\u003cFigure size 600x400 with 1 Axes\u003e"
            ]
          },
          "metadata": {
            "tags": []
          },
          "output_type": "display_data"
        },
        {
          "data": {
            "image/png": "iVBORw0KGgoAAAANSUhEUgAAAZgAAAELCAYAAADkyZC4AAAABHNCSVQICAgIfAhkiAAAAAlwSFlz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\ngg==\n",
            "text/plain": [
              "\u003cFigure size 600x400 with 1 Axes\u003e"
            ]
          },
          "metadata": {
            "tags": []
          },
          "output_type": "display_data"
        },
        {
          "data": {
            "image/png": "iVBORw0KGgoAAAANSUhEUgAAAZIAAAELCAYAAADz6wBxAAAABHNCSVQICAgIfAhkiAAAAAlwSFlz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\n",
            "text/plain": [
              "\u003cFigure size 600x400 with 1 Axes\u003e"
            ]
          },
          "metadata": {
            "tags": []
          },
          "output_type": "display_data"
        }
      ],
      "source": [
        "df_17569447.plot(y=['test_ece', 'test_ece_mean_corrupted'], use_index=True)\n",
        "df_17569447.plot(y=['test_accuracy'], use_index=True)\n",
        "df_17569447.plot(y=['test_accuracy_mean_corrupted'], use_index=True)"
      ]
    },
    {
      "cell_type": "markdown",
      "metadata": {
        "id": "cONKicx3kCom"
      },
      "source": [
        "## 17569349"
      ]
    },
    {
      "cell_type": "code",
      "execution_count": null,
      "metadata": {
        "id": "1Ewx89QvkDRL"
      },
      "outputs": [],
      "source": [
        "xid = 17569349 \n",
        "experiment_17569349 = xm_client.get_experiment(xid)\n",
        "raw_df_17569349 = get_experiment_measurements(experiment_17569349)"
      ]
    },
    {
      "cell_type": "markdown",
      "metadata": {
        "id": "AMxIaeh3olM6"
      },
      "source": [
        ""
      ]
    },
    {
      "cell_type": "code",
      "execution_count": null,
      "metadata": {
        "colab": {
          "height": 252
        },
        "executionInfo": {
          "elapsed": 502,
          "status": "ok",
          "timestamp": 1601312418996,
          "user": {
            "displayName": "Ghassen Jerfel",
            "photoUrl": "https://lh3.googleusercontent.com/-evET3OcsU5g/AAAAAAAAAAI/AAAAAAAABIE/AuuFyTqHyCc/s64/photo.jpg",
            "userId": "12697290324410609870"
          },
          "user_tz": 420
        },
        "id": "3aDo37DPkDUa",
        "outputId": "b26580c6-70c0-4b94-fe9a-3e7be42fc6c3"
      },
      "outputs": [
        {
          "name": "stdout",
          "output_type": "stream",
          "text": [
            "groups = ['l2', 'label_smoothing']\n"
          ]
        },
        {
          "data": {
            "text/html": [
              "\u003cdiv\u003e\n",
              "\u003cstyle scoped\u003e\n",
              "    .dataframe tbody tr th:only-of-type {\n",
              "        vertical-align: middle;\n",
              "    }\n",
              "\n",
              "    .dataframe tbody tr th {\n",
              "        vertical-align: top;\n",
              "    }\n",
              "\n",
              "    .dataframe thead th {\n",
              "        text-align: right;\n",
              "    }\n",
              "\u003c/style\u003e\n",
              "\u003ctable border=\"1\" class=\"dataframe\"\u003e\n",
              "  \u003cthead\u003e\n",
              "    \u003ctr style=\"text-align: right;\"\u003e\n",
              "      \u003cth\u003e\u003c/th\u003e\n",
              "      \u003cth\u003e\u003c/th\u003e\n",
              "      \u003cth\u003etest_accuracy\u003c/th\u003e\n",
              "      \u003cth\u003etest_ece\u003c/th\u003e\n",
              "      \u003cth\u003etest_log_likelihood\u003c/th\u003e\n",
              "      \u003cth\u003etest_accuracy_mean_corrupted\u003c/th\u003e\n",
              "      \u003cth\u003etest_ece_mean_corrupted\u003c/th\u003e\n",
              "    \u003c/tr\u003e\n",
              "    \u003ctr\u003e\n",
              "      \u003cth\u003el2\u003c/th\u003e\n",
              "      \u003cth\u003elabel_smoothing\u003c/th\u003e\n",
              "      \u003cth\u003e\u003c/th\u003e\n",
              "      \u003cth\u003e\u003c/th\u003e\n",
              "      \u003cth\u003e\u003c/th\u003e\n",
              "      \u003cth\u003e\u003c/th\u003e\n",
              "      \u003cth\u003e\u003c/th\u003e\n",
              "    \u003c/tr\u003e\n",
              "  \u003c/thead\u003e\n",
              "  \u003ctbody\u003e\n",
              "    \u003ctr\u003e\n",
              "      \u003cth rowspan=\"5\" valign=\"top\"\u003e0.0003\u003c/th\u003e\n",
              "      \u003cth\u003e0.5\u003c/th\u003e\n",
              "      \u003ctd\u003e0.822266\u003c/td\u003e\n",
              "      \u003ctd\u003e0.452263\u003c/td\u003e\n",
              "      \u003ctd\u003e-1.441859\u003c/td\u003e\n",
              "      \u003ctd\u003e0.542570\u003c/td\u003e\n",
              "      \u003ctd\u003e0.266677\u003c/td\u003e\n",
              "    \u003c/tr\u003e\n",
              "    \u003ctr\u003e\n",
              "      \u003cth\u003e0.7\u003c/th\u003e\n",
              "      \u003ctd\u003e0.820621\u003c/td\u003e\n",
              "      \u003ctd\u003e0.586582\u003c/td\u003e\n",
              "      \u003ctd\u003e-1.851925\u003c/td\u003e\n",
              "      \u003ctd\u003e0.547876\u003c/td\u003e\n",
              "      \u003ctd\u003e0.370392\u003c/td\u003e\n",
              "    \u003c/tr\u003e\n",
              "    \u003ctr\u003e\n",
              "      \u003cth\u003e0.1\u003c/th\u003e\n",
              "      \u003ctd\u003e0.818702\u003c/td\u003e\n",
              "      \u003ctd\u003e0.083995\u003c/td\u003e\n",
              "      \u003ctd\u003e-0.817073\u003c/td\u003e\n",
              "      \u003ctd\u003e0.538274\u003c/td\u003e\n",
              "      \u003ctd\u003e0.105467\u003c/td\u003e\n",
              "    \u003c/tr\u003e\n",
              "    \u003ctr\u003e\n",
              "      \u003cth\u003e0.2\u003c/th\u003e\n",
              "      \u003ctd\u003e0.817126\u003c/td\u003e\n",
              "      \u003ctd\u003e0.175283\u003c/td\u003e\n",
              "      \u003ctd\u003e-0.942155\u003c/td\u003e\n",
              "      \u003ctd\u003e0.537909\u003c/td\u003e\n",
              "      \u003ctd\u003e0.133412\u003c/td\u003e\n",
              "    \u003c/tr\u003e\n",
              "    \u003ctr\u003e\n",
              "      \u003cth\u003e0.9\u003c/th\u003e\n",
              "      \u003ctd\u003e0.653954\u003c/td\u003e\n",
              "      \u003ctd\u003e0.600817\u003c/td\u003e\n",
              "      \u003ctd\u003e-3.199839\u003c/td\u003e\n",
              "      \u003ctd\u003e0.441527\u003c/td\u003e\n",
              "      \u003ctd\u003e0.397795\u003c/td\u003e\n",
              "    \u003c/tr\u003e\n",
              "  \u003c/tbody\u003e\n",
              "\u003c/table\u003e\n",
              "\u003c/div\u003e"
            ],
            "text/plain": [
              "                        test_accuracy  ...  test_ece_mean_corrupted\n",
              "l2     label_smoothing                 ...                         \n",
              "0.0003 0.5                   0.822266  ...                 0.266677\n",
              "       0.7                   0.820621  ...                 0.370392\n",
              "       0.1                   0.818702  ...                 0.105467\n",
              "       0.2                   0.817126  ...                 0.133412\n",
              "       0.9                   0.653954  ...                 0.397795\n",
              "\n",
              "[5 rows x 5 columns]"
            ]
          },
          "execution_count": 53,
          "metadata": {
            "tags": []
          },
          "output_type": "execute_result"
        }
      ],
      "source": [
        "filtered_df = raw_df_17569349[raw_df_17569349['l2']==0.0003]\n",
        "filtered_df = filtered_df[filtered_df['label_smoothing'] \u003e 0]\n",
        "filtered_df = filtered_df[filtered_df['label_smoothing'] \u003c 1]\n",
        "\n",
        "df_17569349 = average_results(filtered_df, experiment_17569349, ['seed'])\n",
        "df_17569349[['test_accuracy', 'test_ece', 'test_log_likelihood', 'test_accuracy_mean_corrupted', 'test_ece_mean_corrupted']].sort_values(by=['test_accuracy'], ascending=False)"
      ]
    },
    {
      "cell_type": "code",
      "execution_count": null,
      "metadata": {
        "colab": {
          "height": 835
        },
        "executionInfo": {
          "elapsed": 718,
          "status": "ok",
          "timestamp": 1601312559088,
          "user": {
            "displayName": "Ghassen Jerfel",
            "photoUrl": "https://lh3.googleusercontent.com/-evET3OcsU5g/AAAAAAAAAAI/AAAAAAAABIE/AuuFyTqHyCc/s64/photo.jpg",
            "userId": "12697290324410609870"
          },
          "user_tz": 420
        },
        "id": "14W6X9fBp-xt",
        "outputId": "fa5f40c0-a5a2-49e3-aa4d-5cc1176cf75a"
      },
      "outputs": [
        {
          "data": {
            "text/plain": [
              "\u003cmatplotlib.axes._subplots.AxesSubplot at 0x7fcae72b8710\u003e"
            ]
          },
          "execution_count": 64,
          "metadata": {
            "tags": []
          },
          "output_type": "execute_result"
        },
        {
          "data": {
            "image/png": "iVBORw0KGgoAAAANSUhEUgAAAYUAAAELCAYAAAA2mZrgAAAABHNCSVQICAgIfAhkiAAAAAlwSFlz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\nCkIIIfT+H2VTE+rZHHNcAAAAAElFTkSuQmCC\n",
            "text/plain": [
              "\u003cFigure size 600x400 with 1 Axes\u003e"
            ]
          },
          "metadata": {
            "tags": []
          },
          "output_type": "display_data"
        },
        {
          "data": {
            "image/png": "iVBORw0KGgoAAAANSUhEUgAAAZIAAAELCAYAAADz6wBxAAAABHNCSVQICAgIfAhkiAAAAAlwSFlz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\n",
            "text/plain": [
              "\u003cFigure size 600x400 with 1 Axes\u003e"
            ]
          },
          "metadata": {
            "tags": []
          },
          "output_type": "display_data"
        },
        {
          "data": {
            "image/png": "iVBORw0KGgoAAAANSUhEUgAAAYsAAAELCAYAAAAoUKpTAAAABHNCSVQICAgIfAhkiAAAAAlwSFlz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\nRGQWw4KIiMxiWBARkVkMCyIiMuv/B6F5f4uX8fxTAAAAAElFTkSuQmCC\n",
            "text/plain": [
              "\u003cFigure size 600x400 with 1 Axes\u003e"
            ]
          },
          "metadata": {
            "tags": []
          },
          "output_type": "display_data"
        }
      ],
      "source": [
        "df_17569349.plot(y=['test_ece', 'test_ece_mean_corrupted'], use_index=True)\n",
        "df_17569349.plot(y=['test_accuracy'], use_index=True)\n",
        "df_17569349.plot(y=['test_accuracy_mean_corrupted'], use_index=True)"
      ]
    },
    {
      "cell_type": "markdown",
      "metadata": {
        "id": "otA6KpaRkDr6"
      },
      "source": [
        "# BatchEnsemble"
      ]
    },
    {
      "cell_type": "markdown",
      "metadata": {
        "id": "zX-txf83kE9_"
      },
      "source": [
        "## 17568541"
      ]
    },
    {
      "cell_type": "code",
      "execution_count": null,
      "metadata": {
        "id": "nxQqwJZkkFZ8"
      },
      "outputs": [],
      "source": [
        "xid = 17568541 \n",
        "experiment_17568541 = xm_client.get_experiment(xid)\n",
        "\n",
        "raw_df_17568541 = get_experiment_measurements(experiment_17568541)"
      ]
    },
    {
      "cell_type": "code",
      "execution_count": null,
      "metadata": {
        "colab": {
          "height": 252
        },
        "executionInfo": {
          "elapsed": 533,
          "status": "ok",
          "timestamp": 1601312428186,
          "user": {
            "displayName": "Ghassen Jerfel",
            "photoUrl": "https://lh3.googleusercontent.com/-evET3OcsU5g/AAAAAAAAAAI/AAAAAAAABIE/AuuFyTqHyCc/s64/photo.jpg",
            "userId": "12697290324410609870"
          },
          "user_tz": 420
        },
        "id": "bcYVy9-IkFdH",
        "outputId": "7eb1e0e9-c01a-4f4f-f6b8-92ffd3f3c3fb"
      },
      "outputs": [
        {
          "name": "stdout",
          "output_type": "stream",
          "text": [
            "groups = ['l2', 'label_smoothing']\n"
          ]
        },
        {
          "data": {
            "text/html": [
              "\u003cdiv\u003e\n",
              "\u003cstyle scoped\u003e\n",
              "    .dataframe tbody tr th:only-of-type {\n",
              "        vertical-align: middle;\n",
              "    }\n",
              "\n",
              "    .dataframe tbody tr th {\n",
              "        vertical-align: top;\n",
              "    }\n",
              "\n",
              "    .dataframe thead th {\n",
              "        text-align: right;\n",
              "    }\n",
              "\u003c/style\u003e\n",
              "\u003ctable border=\"1\" class=\"dataframe\"\u003e\n",
              "  \u003cthead\u003e\n",
              "    \u003ctr style=\"text-align: right;\"\u003e\n",
              "      \u003cth\u003e\u003c/th\u003e\n",
              "      \u003cth\u003e\u003c/th\u003e\n",
              "      \u003cth\u003etest_accuracy\u003c/th\u003e\n",
              "      \u003cth\u003etest_ece\u003c/th\u003e\n",
              "      \u003cth\u003etest_log_likelihood\u003c/th\u003e\n",
              "      \u003cth\u003etest_accuracy_mean_corrupted\u003c/th\u003e\n",
              "      \u003cth\u003etest_ece_mean_corrupted\u003c/th\u003e\n",
              "    \u003c/tr\u003e\n",
              "    \u003ctr\u003e\n",
              "      \u003cth\u003el2\u003c/th\u003e\n",
              "      \u003cth\u003elabel_smoothing\u003c/th\u003e\n",
              "      \u003cth\u003e\u003c/th\u003e\n",
              "      \u003cth\u003e\u003c/th\u003e\n",
              "      \u003cth\u003e\u003c/th\u003e\n",
              "      \u003cth\u003e\u003c/th\u003e\n",
              "      \u003cth\u003e\u003c/th\u003e\n",
              "    \u003c/tr\u003e\n",
              "  \u003c/thead\u003e\n",
              "  \u003ctbody\u003e\n",
              "    \u003ctr\u003e\n",
              "      \u003cth rowspan=\"5\" valign=\"top\"\u003e0.0002\u003c/th\u003e\n",
              "      \u003cth\u003e0.5\u003c/th\u003e\n",
              "      \u003ctd\u003e0.961238\u003c/td\u003e\n",
              "      \u003ctd\u003e0.426178\u003c/td\u003e\n",
              "      \u003ctd\u003e-0.683693\u003c/td\u003e\n",
              "      \u003ctd\u003e0.778293\u003c/td\u003e\n",
              "      \u003ctd\u003e0.300973\u003c/td\u003e\n",
              "    \u003c/tr\u003e\n",
              "    \u003ctr\u003e\n",
              "      \u003cth\u003e0.2\u003c/th\u003e\n",
              "      \u003ctd\u003e0.960370\u003c/td\u003e\n",
              "      \u003ctd\u003e0.161545\u003c/td\u003e\n",
              "      \u003ctd\u003e-0.311745\u003c/td\u003e\n",
              "      \u003ctd\u003e0.773381\u003c/td\u003e\n",
              "      \u003ctd\u003e0.129236\u003c/td\u003e\n",
              "    \u003c/tr\u003e\n",
              "    \u003ctr\u003e\n",
              "      \u003cth\u003e0.1\u003c/th\u003e\n",
              "      \u003ctd\u003e0.959602\u003c/td\u003e\n",
              "      \u003ctd\u003e0.076803\u003c/td\u003e\n",
              "      \u003ctd\u003e-0.217079\u003c/td\u003e\n",
              "      \u003ctd\u003e0.776772\u003c/td\u003e\n",
              "      \u003ctd\u003e0.099567\u003c/td\u003e\n",
              "    \u003c/tr\u003e\n",
              "    \u003ctr\u003e\n",
              "      \u003cth\u003e0.7\u003c/th\u003e\n",
              "      \u003ctd\u003e0.959235\u003c/td\u003e\n",
              "      \u003ctd\u003e0.599495\u003c/td\u003e\n",
              "      \u003ctd\u003e-1.066551\u003c/td\u003e\n",
              "      \u003ctd\u003e0.770767\u003c/td\u003e\n",
              "      \u003ctd\u003e0.442301\u003c/td\u003e\n",
              "    \u003c/tr\u003e\n",
              "    \u003ctr\u003e\n",
              "      \u003cth\u003e0.9\u003c/th\u003e\n",
              "      \u003ctd\u003e0.955796\u003c/td\u003e\n",
              "      \u003ctd\u003e0.770010\u003c/td\u003e\n",
              "      \u003ctd\u003e-1.702888\u003c/td\u003e\n",
              "      \u003ctd\u003e0.772169\u003c/td\u003e\n",
              "      \u003ctd\u003e0.596346\u003c/td\u003e\n",
              "    \u003c/tr\u003e\n",
              "  \u003c/tbody\u003e\n",
              "\u003c/table\u003e\n",
              "\u003c/div\u003e"
            ],
            "text/plain": [
              "                        test_accuracy  ...  test_ece_mean_corrupted\n",
              "l2     label_smoothing                 ...                         \n",
              "0.0002 0.5                   0.961238  ...                 0.300973\n",
              "       0.2                   0.960370  ...                 0.129236\n",
              "       0.1                   0.959602  ...                 0.099567\n",
              "       0.7                   0.959235  ...                 0.442301\n",
              "       0.9                   0.955796  ...                 0.596346\n",
              "\n",
              "[5 rows x 5 columns]"
            ]
          },
          "execution_count": 55,
          "metadata": {
            "tags": []
          },
          "output_type": "execute_result"
        }
      ],
      "source": [
        "filtered_df = raw_df_17568541[raw_df_17568541['l2']==0.0002]\n",
        "filtered_df = filtered_df[filtered_df['label_smoothing'] \u003e 0]\n",
        "filtered_df = filtered_df[filtered_df['label_smoothing'] \u003c 1]\n",
        "df_17568541 = average_results(filtered_df, experiment_17568541, ['seed'])\n",
        "df_17568541[['test_accuracy', 'test_ece', 'test_log_likelihood', 'test_accuracy_mean_corrupted', 'test_ece_mean_corrupted']].sort_values(by=['test_accuracy'], ascending=False)"
      ]
    },
    {
      "cell_type": "code",
      "execution_count": null,
      "metadata": {
        "colab": {
          "height": 835
        },
        "executionInfo": {
          "elapsed": 927,
          "status": "ok",
          "timestamp": 1601312562345,
          "user": {
            "displayName": "Ghassen Jerfel",
            "photoUrl": "https://lh3.googleusercontent.com/-evET3OcsU5g/AAAAAAAAAAI/AAAAAAAABIE/AuuFyTqHyCc/s64/photo.jpg",
            "userId": "12697290324410609870"
          },
          "user_tz": 420
        },
        "id": "USDRnK8kpjv8",
        "outputId": "22b14a7c-3c27-4ace-d9bb-1aadbbc90562"
      },
      "outputs": [
        {
          "data": {
            "text/plain": [
              "\u003cmatplotlib.axes._subplots.AxesSubplot at 0x7fcae717a630\u003e"
            ]
          },
          "execution_count": 65,
          "metadata": {
            "tags": []
          },
          "output_type": "execute_result"
        },
        {
          "data": {
            "image/png": "iVBORw0KGgoAAAANSUhEUgAAAYUAAAELCAYAAAA2mZrgAAAABHNCSVQICAgIfAhkiAAAAAlwSFlz\nAAALEgAACxIB0t1+/AAAADl0RVh0U29mdHdhcmUAbWF0cGxvdGxpYiB2ZXJzaW9uIDMuMC4zLCBo\ndHRwOi8vbWF0cGxvdGxpYi5vcmcvnQurowAAIABJREFUeJzt3XlcVPX+x/GXiApuKCAqDi6Aouwq\n456aGujVKG1DKzNSsqzb8qvUbmaLdW25XTW7eSnTFhVLU8wF9yU3kMx9Q0VlEWVR9nXm+/tjdK4E\nyCIwLJ/n49Ejz8w5Zz7zFc+bs3y/3wZKKYUQQggBmJm6ACGEEDWHhIIQQggjCQUhhBBGEgpCCCGM\nJBSEEEIYSSgIIYQwklAQQghhVKZQCAsLw8XFBWdnZ+bOnVvk/dTUVB588EG8vLxwc3NjyZIllV6o\nEEKIqtegtM5rOp2Obt26sXXrVjQaDVqtlhUrVuDq6mpc5+OPPyY1NZVPPvmExMREXFxcSEhIoHHj\nxlX+BYQQQlQe89JWiIiIwNnZGUdHRwACAgIIDQ0tFAoNGjQgPT0dpRQZGRlYW1tjbn73Xdva2tK5\nc+d7q14IIeqZS5cukZSUVGX7LzUU4uLicHBwMC5rNBrCw8MLrfPSSy/h7++Pvb096enprFy5EjOz\nu1+Z6ty5M5GRkRUsWwgh6icfH58q3X+p9xSKu7rUoEGDQsubN2/G29ub+Ph4jhw5wksvvURaWlqR\n7YKDg/Hx8cHHx4fExMR7KFsIIURVKDUUNBoNMTExxuXY2Fjs7e0LrbNkyRLGjRtHgwYNcHZ2pkuX\nLpw5c6bIvoKCgoiMjCQyMpI2bdpUQvlCCCEqU6mhoNVqiYqKIjo6mry8PEJCQvD39y+0TseOHdm+\nfTsA165d4+zZs8Z7EEIIIWqPUu8pmJubs3DhQvz8/NDpdAQGBuLm5saiRYsAmDp1KrNmzWLSpEl4\neHiglOKTTz7B1ta23MXk5+cTGxtLTk5O+b+JEJXMwsICjUZDo0aNTF2KENWm1EdSq4qPj0+RG83R\n0dG0aNECGxubIvcthKhOSimSk5NJT0+nS5cupi5HCKPijp2VqUb1aM7JyZFAEDVCgwYNsLGxkbNW\nUe/UqFCAok82CWEq8rMo6qMaFwpCCFFXKaX4OTKGqGvppi6lRBIKd7h58yb/+c9/KrTtvHnzyMrK\nquSKhBB1xeXkTJ5aHM5bq46xLPyKqcspkYTCHSQUhBCVrUCnZ9HuC/jN28OxmFTmPOzOu2NcS9/Q\nREp9JLU+mTFjBhcuXMDb25sHHngAOzs7fv75Z3Jzcxk7dizvv/8+mZmZPP7448TGxqLT6Zg1axbX\nrl0jPj6e+++/H1tbW3bu3Fns/rds2cLs2bPJzc3FycmJJUuW0Lx5cw4dOsQrr7xCZmYmTZo0Yfv2\n7TRt2pQZM2awa9cucnNzmTZtGs8//3w1t4gQ4l6ciEtl+upjnIxP4wHXtnz4kDvtrCxMXdZd1dhQ\neP+3k5yKLzpUxr1wtW/J7AfdSnx/7ty5nDhxgiNHjrBlyxZWrVpFREQESin8/f3Zs2cPiYmJ2Nvb\ns2HDBsAwbLiVlRVffPEFO3fuLLF/RlJSEnPmzGHbtm00a9aMTz75hC+++IIZM2bwxBNPsHLlSrRa\nLWlpaVhaWrJ48WKsrKw4dOgQubm5DBw4EF9fX3k8UohaIDtPx7+3nWPx3mismzXm6yd7MdK9Xa14\neKHGhoKpbdmyhS1bttCzZ08AMjIyiIqK4r777uONN95g+vTpjBkzhvvuu69M+zt48CCnTp1i4MCB\nAOTl5dG/f3/Onj1L+/bt0Wq1ALRs2dL4+ceOHWPVqlWAIXyioqIkFISo4fZGJfH2muNcSclifB8H\nZozqgZVl7ekAWWND4W6/0VcHpRQzZ84s9pLNH3/8wcaNG5k5cya+vr68++67ZdrfAw88wIoVKwq9\nfuzYsWJ/e1BK8eWXX+Ln51fxLyGEqDY3MvOYs+E0qw/H0sW2GSFB/ejnaGPqsspNbjTfoUWLFqSn\nGx4V8/Pz47vvviMjIwMwDCF+/fp14uPjadq0KU899RRvvPEGhw8fLrJtcfr168e+ffs4f/48AFlZ\nWZw7d47u3bsTHx/PoUOHAEhPT6egoAA/Pz++/vpr8vPzATh37hyZmZlV9t2FEBWjlCL0SBwjvthN\n6JE4pt3vxKZX7quVgQA1+EzBFGxsbBg4cCDu7u6MGjWKCRMm0L9/fwCaN2/OTz/9xPnz53nzzTcx\nMzOjUaNGfP3114BhBNhRo0bRvn37Ym80t2nThqVLlzJ+/Hhyc3MBmDNnDt26dWPlypW8/PLLZGdn\nY2lpybZt25g8eTKXLl2iV69eKKVo06YNa9eurb7GEEKUKu5mNu+sOc7Os4l4ObTip3Ee9Gjf0tRl\n3ZMaNfbR6dOn6dGjhynKEaJY8jMpiqPTK344cInPNp8F4A1fF54Z0JmGZlV/I7mqxz6SMwUhhCiH\nMwlpzFh9nCMxNxnq0oY5D7ujad3U1GVVGgmFKtC3b1/jJaLbfvzxRzw8PExUkRDiXuXk6/hq53m+\n3nWBlpaNmB/gjb+Xfa14zLQ8JBSqwF/nsBZC1G7hF5OZueY4FxMzGderA++MdsW6WWNTl1UlJBSE\nEKIEaTn5zN10huXhV3CwtuSHwD4M7la3pxKWUBBCiGKEnUjg3dATJGXkMuW+Lrz2QDeaNq77h8y6\n/w2FEKIcrqXl8G7oCTafvIZr+5Z8+4wPnppWpi6r2kgoCCEEoNcrQg7F8M+Np8nT6Zk+sjuT7+tC\no4b1q4+vhIIQot67kJjBzNXHibiUQn9HG/45zoPOts1MXZZJlCkCw8LCcHFxwdnZmblz5xZ5/7PP\nPsPb2xtvb2/c3d1p2LAhKSkplV5sVZP5FGq3tWvXcurUqXJv17x58yqoRtQGeQV6Fu6IYtS83zl7\nLZ1PH/Vk+ZS+9TYQoAyhoNPpmDZtGps2beLUqVOsWLGiyD+8N998kyNHjnDkyBH++c9/MmTIEKyt\nraus6KoioWAaBQUFd10uq4qGgqif/rxygwe/3MvnW87xgFtbtr4+mMd9HOpcv4PyKvXyUUREBM7O\nzjg6OgIQEBBAaGgorq7Fzxy0YsUKxo8ff++VbZoBCcfvfT93aucBo4qe6dxWWyfZ2bVrF7Nnz6Zt\n27YcOXKEcePG4eHhwfz588nOzmbt2rU4OTmRmJjI1KlTuXLFMBXgvHnzGDhwIBEREbz66qvGsZeW\nLFmCi4sLS5cuZd26dWRlZXHhwgXGjh3Lp59+WmL7hYWF8fbbb6PT6bC1tWX79u2kpKQQGBjIxYsX\nadq0KcHBwXh6evLee+8RHx/PpUuXsLW1xdfXlw0bNpCTk0NmZibvvvsun3/+OevXrwfgpZdewsfH\nh0mTJtG5c2eeeOIJYzsvX76c69evs27dOnbv3s2cOXNYvXo1ANOmTSMxMZGmTZvyzTff0L17d6Kj\no5kwYQIFBQWMHDmy9J8bUadk5Bbw+eazfH/gEu1aWvDtRB9GuLY1dVk1RqmhEBcXh4ODg3FZo9GU\n2DkrKyuLsLAwFi5cWOz7wcHBBAcHA5CYmFiReqtUbZ5k5+jRo5w+fRpra2scHR2ZPHkyERERzJ8/\nny+//JJ58+bxyiuv8NprrzFo0CCuXLmCn58fp0+fpnv37uzZswdzc3O2bdvG22+/bTyoHjlyhD//\n/JMmTZrg4uLCyy+/XOjn4bbExESmTJnCnj176NKli/Hy4ezZs+nZsydr165lx44dTJw4kSNHjgCG\nIcj37t2LpaUlS5cu5cCBAxw7dgxra2t27dp117+rli1bEhERwQ8//MCrr77K+vXr8ff3Z8yYMTz6\n6KMADB8+nEWLFtG1a1fCw8N58cUX2bFjB6+88govvPACEydO5Kuvvir9B0PUGTvPXOedtSeIT81m\nYr9OvOHnQguL2jPXQXUoNRSKGy+vpNOr3377jYEDB5Z46SgoKIigoCDAMKjTXd3lN/rqUNsm2dFq\ntbRv3x4AJycnfH19AfDw8DD+Rr1t27ZCl1fS0tJIT08nNTWVZ555hqioKBo0aGAcrhsMB1YrKysA\nXF1duXz5crGhcPDgQQYPHmys7/bPwN69e40BM2zYMJKTk0lNTQXA398fS0tL4z4eeOCBMl92vH02\nOn78eF577bUi72dkZLB//34ee+wx42u3hx7Zt2+fsaann36a6dOnl+kzRe2VlJHLB7+dYt3ReLra\nNWfV1AH07tTa1GXVSKWGgkajISYmxrgcGxuLvb19seuGhIRUzqWjGqC2TbLTpEkT45/NzMyMy2Zm\nZsZr9Hq9ngMHDhQ6EAO8/PLL3H///axZs4ZLly4xdOjQYvfbsGHDEq/3K6VK/B5/dXu9Zs0K38y7\nc9nc3By9Xm9czsnJKXYff/3zbXq9nlatWhnPSkqqQdRtSilWH45jzoZTZOXqeG1EN6YOdaSJeUNT\nl1ZjlXqjWavVEhUVRXR0NHl5eYSEhODv719kvdTUVHbv3s1DDz1UJYVWh7o+yY6vr2+hS3u3D5ip\nqal06NABgKVLl1Zo3/3792f37t1ER0cDGC8fDR48mGXLlgGGex+2trbGs6G76dSpE6dOnSI3N5fU\n1FS2b99e6P2VK1ca/397zos7/w5atmxJly5d+OWXXwDDweHo0aMADBw4kJCQEABjbaLuuZKcxdOL\nI3jjl6M4t2nOxlcG8cqIrhIIpSj1TMHc3JyFCxfi5+eHTqcjMDAQNzc3Fi1aBMDUqVMBWLNmDb6+\nvkV++6tN6vokOwsWLGDatGl4enpSUFDA4MGDWbRoEW+99RbPPPMMX3zxBcOGDavQvtu0aUNwcDDj\nxo1Dr9djZ2fH1q1bee+993j22Wfx9PSkadOmfP/992Xan4ODA48//jienp507drVeBnvttzcXPr2\n7YterzeefQUEBDBlyhQWLFjAqlWrWLZsGS+88AJz5swhPz+fgIAAvLy8mD9/PhMmTGD+/Pk88sgj\nFfq+ouYq0On5bl80X2w9h7mZGR8+7M6TfTpiVg1zHdQFMsmOqHU6d+5MZGRkiTf1K5P8TNYuJ+JS\nmfHrMU7EpfGAa1s+eMiN9laWpW9Yi8gkO0IIUYrsPB3ztp/j29+jsW7WmK+f7MVI93Zy76gCJBSq\nQFVNsnP8+HGefvrpQq81adKk2udvMPUkQpcuXaqWzxG1w77zScz89ThXUrII0Dowc1QPrJrKY6YV\nVeNCoaSnWGqTqjpIe3h4lPg0TXWqL5MImejKqiijm1l5fLThNL/8EUsX22asmNKP/k42pi6r1qtR\noWBhYUFycjI2Nja1PhhE7aaUIjk5GQsLC1OXIv5CKcVvx67ywW8nuZmVz7T7nXh5WFcsGslTRZWh\nRoWCRqMhNja2RvZ2FvWPhYUFGo3G1GWIO8TdzGbW2hPsOHMdL40VPwT2xdW+9EecRdnVqFBo1KhR\niT12hRD1l06v+PHAJT7bfBa9glljXJk0oDMN5THTSlejQkEIIf7q3LV0pq8+xp9XbjK4Wxs+etgd\nB+umpi6rzpJQEELUSLkFOr7acZ6vd1+ghUUj5j3hzUPe9nK/sYpJKAghapxDl1KYsfoYFxIzGdez\nA++MccW6WWNTl1UvSCgIIWqMtJx8Ptl0hmXhV9C0tuT7wD4M6dbG1GXVKxIKQogaYfPJBN4NPUFi\nei6TB3Xhdd9uNG0sh6jqJi0uhDCp62k5zF53kk0nEujRviXfTPTBU9PK1GXVWxIKQgiT0OsVKyNj\n+HjjafIK9Lw10oUp9znSqGGpI/qLKiShIISodhcSM5j563EiolPo72jDx+M86GJbe4fdr0skFIQQ\n1SZfpyd4z0Xmb4/CwtyMTx/x5DEfjTxmWoNIKAghqsWRmJvMWH2MMwnpjPZoz2x/V+xayNhSNY2E\nghCiSmXmFvCvLedYsj+ati0s+GaiDw+4tjV1WaIEEgpCiCqz8+x13llzgvjUbJ7q24m3RrrQwkLm\nOqjJJBSEEJUuOSOXD9afIvRIPM52zVk1tT+9O1mbuixRBmV69issLAwXFxecnZ2ZO3dusevs2rUL\nb29v3NzcGDJkSKUWKYSoHZRS/Ho4lhFf7Gbj8au8OqIrG/4+SAKhFin1TEGn0zFt2jS2bt2KRqNB\nq9Xi7++Pq6urcZ2bN2/y4osvEhYWRseOHbl+/XqVFi2EqHliUrJ4e81xfo9Konen1swd50HXti1M\nXZYop1JDISIiAmdnZxwdHQEICAggNDS0UCgsX76ccePG0bFjRwDs7OyqqFwhRE1ToNOzdP8l/rXl\nHA3NGvDhQ2482bcTZjLXQa1U6uWjuLg4HBwcjMsajYa4uLhC65w7d44bN24wdOhQevfuzQ8//FD5\nlQohapxT8WmM+3o/czacZqCzDVtfH8zT/TtLINyNrgB0+aauokSlnikUN3n5XzuaFBQU8Mcff7B9\n+3ays7Pp378//fr1o1u3boXWCw4OJjg4GECm3BSiFsst0LFwx3m+3nWBVk0bsXBCT0Z7tJdOaKW5\nsAPCZkKvZ6D/i6auplilhoJGoyEmJsa4HBsbi729fZF1bG1tadasGc2aNWPw4MEcPXq0SCgEBQUR\nFBQEgI+PT2XUL4SoZn9cvsH01cc4fz2DR3ppmDWmB62aylwHd5V8Aba8A2c3QusuYONs6opKVOrl\nI61WS1RUFNHR0eTl5RESEoK/v3+hdR566CF+//13CgoKyMrKIjw8nB49elRZ0UKI6peZW8D7v53k\n0UX7yc7T8X1gH/71uJcEwt3kpMGWWfBVX4jeAyPeh2nh0M3X1JWVqNQzBXNzcxYuXIifnx86nY7A\nwEDc3NxYtGgRAFOnTqVHjx6MHDkST09PzMzMmDx5Mu7u7lVevBCievwelcjMX48TdzObif068ebI\n7jRvIt2cSqTXw5FlsP19yEwC7ydh+LvQoub35G6girtpUA18fHyIjIw0xUcLIcooNSufjzae4ufI\nWBzbNOOTRzzRdpY+B3d1+QCETYerR8GhL4ycCx16Vdruq/rYKVEvhChW2IkEZoWeICUzjxeHOvH3\n4V2xaNTQ1GXVXDdjYNtsOLEaWnaARxaD+yNQy26+SygIIQq5np7De+tOsvF4Aq7tW7Jkkhb3Dlam\nLqvmysuC/Qtg7zxAwZAZMPDv0Lh2zg8hoSCEAG4PURHHB+tPkZ2v400/F4IGy0xoJVLKcFawdTak\nxYLbOHjgfWjV0dSV3RMJBSEEsTeyeHvNCfacS8SnU2vmPuKJs11zU5dVc8X/CZtmQMxBaOcJj3wD\nnQaYuqpKIaEgRD2m1yt+Cr/MJ5vOoID3/d14up8MUVGijOuw/QP48ydoZgv+XxqeLDKrO/daJBSE\nqKcuJGYwY/UxDl26weBubfh4rDua1k1NXVbNVJAL4Ytg92dQkAMDXoLBb4JF3bvXIqEgRD1z5zzJ\nlo0a8q/HvBjXq4MMUVEcpeBcGGx+G1IuQreR4PsR2NbcHsn3SkJBiHrkRFwq01cf42R8Gn/zaMf7\n/u60adHE1GXVTNfPwOaZhvGKbF3gqdXgPMLUVVU5CQUh6oGcfB0Ltkfx3z0XsW7WmEVP9WKke3tT\nl1UzZaXArrlw6Fto0hxGfgLa56Bh/ZhGVEJBiDou8lIKb60+xsXETB7rreGd0a5YNa0fB7hy0RXA\nH0tg50eQkwq9n4X7/wHNbExdWbWSUBCijsrILeCzsDP8cPAyHVpZ8uNzfbivaxtTl1UzXdxlGNL6\n+inofB+M+gTaupm6KpOQUBCiDtp9LpG3fz1OfGo2z/TvzJt+LjSTAeyKSrloGMX0zHpo1Qme+Am6\nj6l1Q1NUJvkpEaIOuZmVx4frT7P6cCxObZqxamp/eneSAeyKyE2H3/8FB74Cs0YwfDb0exEaWZi6\nMpOTUBCijth4/Crvhp7gZlY+Lw9zZtr9zjKA3V/p9XB0hWFI64xr4DXBMKR1S7npfpuEghC13PW0\nHN4NPUnYyQQ8OljxQ2BfXO1bmrqsmicmAja9ZRiiQqOFgBWg6W3qqmocCQUhaimlFL/8Ecuc9afI\nLdAzY1R3Jg/qgrkMYFdYahxsew+O/wwt2sO4b8D9UTCTdiqOhIIQtVBMShZvrznO71FJ9OlszdxH\nPHBsIwPYFZKfDfu/hL3/Br3OMCzFwFcNfQ9EiSQUhKhFdHrFDwcu8dnmszQAPnzYnSf7dJQB7O6k\nFJxaC1vehdQr4PoQPPAhtO5k6spqBQkFIWqJ89fTeWvVMQ5fuclQlzZ8NNaDDq0sTV1WzXL1qGFI\n6yv7oa0HjN0AnQeZuqpaRUJBiBouX6fnv7svsGD7eZo2aci/n/DiYW8ZwK6QjETY8SEc/gGaWsOY\nedBrYp0a0rq6lOlOS1hYGC4uLjg7OzN37twi7+/atQsrKyu8vb3x9vbmgw8+qPRChaiPjsem8uCX\ne/l8yzl83dqy7fUhjO2pkUC4rSAP9i+EL3vBkWWGvgYvHwafZyUQKqjUMwWdTse0adPYunUrGo0G\nrVaLv78/rq6uhda77777WL9+fZUVKkR9kpOvY962KL75/SI2zRoT/HRvfN3ambqsmkMpiNpiGNI6\n+Tx09TUMad2mm6krq/VKDYWIiAicnZ1xdHQEICAggNDQ0CKhIISoHOEXk5nx63GikzIJ0Dow8289\nsLKUAeyMEs8awuD8NrDpChN+gW6+pq6qzig1FOLi4nBwcDAuazQawsPDi6x34MABvLy8sLe35/PP\nP8fNrehgUsHBwQQHBwOQmJh4L3ULUeek5+TzadhZfjx4GQdrS5ZN7stAZ1tTl1VzZN+A3Z9CRDA0\nagZ+H4N2Cpg3NnVldUqpoaCUKvLaX69n9urVi8uXL9O8eXM2btzIww8/TFRUVJHtgoKCCAoKAsDH\nx6eiNQtR5+w8c51/rDnO1bQcnhvUhf/z7UbTxvIcCGDoY/DHUtgxxxAMvSfBsHcMcySLSlfqT51G\noyEmJsa4HBsbi729faF1Wrb8X5f6v/3tb7z44oskJSVhayt/aULcTUpmHh+uP8WaP+Poatec1S8M\noFfH1qYuq+aI3mMY0vraCeg0CEb+E9p7mrqqOq3UUNBqtURFRREdHU2HDh0ICQlh+fLlhdZJSEig\nbdu2NGjQgIiICPR6PTY29WtiCiHKQynFhuNXmR16ktTsfP4+vCvT7neiibk8MQPAjUuw5R04/RtY\ndYTHf4Ae/vV6SOvqUmoomJubs3DhQvz8/NDpdAQGBuLm5saiRYsAmDp1KqtWreLrr7/G3NwcS0tL\nQkJC5JE5IUpwLS2Hd9aeYOupa3hqrPhpcl96tJcB7ADIzYC9XxgeMzVraLhM1P8laCSd9KpLA1Xc\nTYNq4OPjQ2RkpCk+WgiTUErxc2QMczacJq9Azxu+Ljw7sLMMYAeGIa2PrTQMXJeRAJ4BMGI2tLQv\nddP6pqqPnXInS4hqcCU5ixm/HmP/hWT6drHmk0c86WzbzNRl1QyxkYYhreP+gA69DbOfOWhNXVW9\nJaEgRBXS6RVL91/i881naWjWgI/HehCgdZAB7ADS4mHb+3AsBJq3g4cXgecTMqS1iUkoCFFFzl0z\nDGB3JOYmw7rb8dFYd9pbybVx8nPgwEL4/QvQ58Og1+G+16FJC1NXJpBQEKLS5RXo+XrXBRbujKKF\nRSPmB3jj72UvD18oBafXGZ4qunkFejxoGNLauoupKxN3kFAQohIdjbnJ9NXHOJOQjr+XPbMfdMWm\neRNTl2V6CccN/Q0u/Q52bjBxHTgOMXVVohgSCkJUguw8Hf/edo5vf7+IXQsLvp3owwjXtqYuy/Qy\nkww9kQ9/DxatYPS/oNckaCiHnppK/maEuEcHLiQz89djXErOYkLfjswY1Z2WFvV8ADtdPkR8A7vm\nQl4G9Hkehk4HS+mtXdNJKAhRQWk5+czddIbl4VfoZNOU5VP6MsBJhnYhahtsnglJ58BpGPj9E+y6\nm7oqUUYSCkJUwPbT1/jHmhNcT88haLAjr43ohmXjej5ERVKUYUjrqC1g7QTjV0I3PxmaopaRUBCi\nHJIzcnn/t1OsOxqPS9sWLHq6N94OrUxdlmll34Q9n0H4ImjUFHznGC4XyZDWtZKEghBloJRi3dF4\n3v/tFOk5+bw2ohsvDHWisXk97miVnwOR38Hvn0NWCvR6GobNguZ2pq5M3AMJBSFKcTU1m3fWnGD7\nmet4ObTi00c8cWlXjzta6QoMvZB3zYXUGOgyBB74AOy9TV2ZqAQSCkKUQK9XhByK4Z8bT5Ov1/PO\n6B48O7ALDevrEBVKwZn1sP1DSDoL9j3B/0twut/UlYlKJKEgRDEuJWUy49djHLyYwgAnG/45zoNO\nNvV4ALuLu2H7+4ZB62y7weM/Gnoky03kOkdCQYg7KKVYvDeaz7ecpZGZGXPHefCE1qH+DlERd9gQ\nBhd3QUsN+C8Er/HS+awOk79ZIW7R6xXvrjvBTwevMKJHW+Y87E47KwtTl2Uaiedg5xw4FQpNbcDv\nY/B5DhrV0/aoRyQUhMAQCLNCT7As/ArPD3Fkxsju9fPsIDXWcAP5yDLD46VDZkD/aWAhM8PVFxIK\not7T6xX/WHuCFRFXeGGoE2/5udS/QMhMNkyDGfENoKDvVLjv/6CZ9NCubyQURL2m1yveXnOckEMx\nTLvfiTd861kg5KbDgf/A/i8hPxO8JhjGKGrV0dSVCRMpU8+bsLAwXFxccHZ2Zu7cuSWud+jQIRo2\nbMiqVasqrUAhqoper5jx6zFCDsXw8jDn+hUIBblw8GuY7w27PjYMY/3CAXj4KwmEeq7UMwWdTse0\nadPYunUrGo0GrVaLv78/rq6uRdabPn06fn5+VVasEJVFp1dMX32MVX/E8vfhXXltRNf6EQh6HRwN\ngV3/vNXxbDAMnw0aH1NXJmqIUkMhIiICZ2dnHB0dAQgICCA0NLRIKHz55Zc88sgjHDp0qGoqFaKS\n6PSKN1cd5dfDcbw6oiuvjuhm6pKqnlJwZgPs+BASz0B7b+l4JopVaijExcXh4OBgXNZoNISHhxdZ\nZ82aNezYsUNCQdRoOr3ijV+OsubPOF4b0Y1XRnQ1dUlVL3oPbHsf4iLBpis8/gP08JeOZ6JYpYaC\nUqrIa389zX711Vf55JNPaNjG3IZxAAAgAElEQVTw7kMHBwcHExwcDEBiYmJ56hTinhXo9PzfL0cJ\nPRLPG77deGlYHQ+E+D8NYXBxJ7TsYDgz8JogHc/EXZX606HRaIiJiTEux8bGYm9vX2idyMhIAgIC\nAEhKSmLjxo2Ym5vz8MMPF1ovKCiIoKAgAHx85BqmqD4FOj2v/3yUdUfjedPPhWn3O5u6pKqTFGWY\nAvPUWrC0Bt+PQDtZOp6JMik1FLRaLVFRUURHR9OhQwdCQkJYvnx5oXWio6ONf540aRJjxowpEghC\nmEqBTs+rK4+w/thVpo/szgtDnUxdUtVIjYPdc+HPZWBuAUOmQ/+XpOOZKJdSQ8Hc3JyFCxfi5+eH\nTqcjMDAQNzc3Fi1aBMDUqVOrvEghKipfp+fVkCNsOH6VmaO68/yQOhgIWSnw+7/+1/GsT5Ch41nz\nNqauTNRCDVRxNw2qgY+PD5GRkab4aFFP5Ov0/H3Fn2w6kcA//taDKYMdTV1S5crNgIO3Op7lZRgG\nqhs6Q/oZ1HFVfeyUO06iTsor0PPyisNsPnmNd0b3YPJ9dSgQCnIhcolhxrPMROg+Boa9A3Y9TF2Z\nqAMkFESdk1eg56Xlh9ly6hrvjnElcFAXU5dUOfQ6OPYz7PwYUq9A5/sgYAU4aE1dmahDJBREnZJX\noOfFZYfZdvoa7z3oyqSBdSAQlIKzGw0zniWevtXxbD443i99DUSlk1AQdUZugY5pyw6z7fR1PnjI\njYn9O5u6pHsX/bthkpvYQ2DjDI99D64PSRiIKiOhIOqE3AIdL/x0mB1nrvPhw+483a+TqUu6N/F/\nwvYP4MIOQ8ezBxeA95PS8UxUOfkJE7VeTr6OF376g51nE/lorDtP9q3FgZB03jDj2ck1YNkafOfc\n6nhmaerKRD0hoSBqtZx8Hc//+Ae7zyXyz3EejO9TSx/HTI2D3Z/Anz8ZOp4NfgsGvAQWVqauTNQz\nEgqi1srJ1zHlh0j2nk/ik0c8eEJbCwMhK8Uw41l4MCg99Jlyq+OZnakrE/WUhIKolbLzDIGw70IS\nn4zz5HGtQ+kb1SS5GYZJbvYvMMx+drvjWetafOlL1AkSCqLWyc7TMfmHQ+y/kMynj3jymE8tCoSC\nXPhjKez5zNDxzGW0oeNZW9dSNxWiOkgoiFolK6+A55ZGcjA6mc8f9eKR3hpTl1Q2eh0c/wV2fgQ3\npeOZqLkkFEStkZVXQODSQ0REp/DF416M7VkLAqFIxzMvGDMPnIZJXwNRI0koiFohM7eAZ5ceIvJS\nCv9+wpuHvDuYuqTSXdoL294zdDyzdoJHl4Drw2BmZurKhCiRhIKo8TJyCwhccojIyynMC+iJv5d9\n6RuZUvyRWx3PtkMLe3hw/q2OZ41MXZkQpZJQEDVaRm4Bk76L4M+Ym8wP6MmDNTkQki8YZjw7+auh\n49kDHxoeMZWOZ6IWkVAQNVZ6Tj6TlhziSMxNFgT0ZLRne1OXVLy0eEPHs8M/gnkTGPwmDHhZOp6J\nWklCQdRIaTn5PPNdBMdjU1k4viejPGpgIGSlwN5/Q0Sw4eki7WQY/IZ0PBO1moSCqHHScvKZuDiC\nE3GpLJzQk5HuNSwQcjMg/GvY9yXkpoFXwK2OZ51NXZkQ90xCQdQoqdn5TPwugpNxqXz1ZC/83NqZ\nuqT/Kci7o+PZdXD5GwybJR3PRJ0ioSBqjNSsfJ7+LpzTV9P4z5O98K0pgaDXwfFVtzqeXYZOgyBg\nGTj0MXVlQlS6Mj0wHRYWhouLC87OzsydO7fI+6GhoXh6euLt7Y2Pjw979+6t9EJF3Zaalc9Ti8M5\nczWdr5/sXTMCQSk4uwkWDYI1QYYbx0+thknrJRBEnVXqmYJOp2PatGls3boVjUaDVqvF398fV9f/\nnTIPHz4cf39/GjRowLFjx3j88cc5c+ZMlRYu6o6bWXk8tTiccwkZLHq6F8O6tzV1SXBp362OZxG3\nOp59B65jpeOZqPNKDYWIiAicnZ1xdHQEICAggNDQ0EKh0Lx5c+OfMzMzaSDd90UZ3cjM48lvwzmf\nmMF/J/bmfhcTP7mTfAE2TYfzW6FFe8OQFD2fko5not4oNRTi4uJwcPjfKJQajYbw8PAi661Zs4aZ\nM2dy/fp1NmzYUOy+goODCQ4OBiAxMbGiNYs6IuVWIFxIzCD46d4MNWUg6Arg4Few82No2Bge+AD6\nBEnHM1HvlHourJQq8lpxZwJjx47lzJkzrF27llmzZhW7r6CgICIjI4mMjKRNmzYVKFfUFckZuUz4\n5iAXEzP4dqKPaQPh6jH4dhhsfRechsO0cBj4igSCqJdKPVPQaDTExMQYl2NjY7G3L3mogcGDB3Ph\nwgWSkpKwtbWtnCpFnZKUkcuT34RzKTmTb5/x4b6uJvoFIT/b0BN53wJoagOPfQ+uD8nopaJeK/VM\nQavVEhUVRXR0NHl5eYSEhODv719onfPnzxvPKA4fPkxeXh42NjZVU7Go1ZJunSFcTsnku0la0wXC\npb3w9UBDj2Tv8YazA7eHJRBEvVfqmYK5uTkLFy7Ez88PnU5HYGAgbm5uLFq0CICpU6eyevVqfvjh\nBxo1aoSlpSUrV66Um82iiMR0QyDE3Mjiu2e0DHA2wZlkTqrhMtEfSw09kCeGguPQ6q9DiBqqgSru\npkE18PHxITIy0hQfLUzgenoOE74JJ+5GNt9N0tLfyQRnkmc2wIb/g4xr0O9FuP9taNys+usQ4h5U\n9bFTejSLKnc9LYeAbw6SkJrD0me19HWs5kBIvwab3oRTodDW3dAbuUPv6q1BiFpCQkFUqWtpOYwP\nPkhCWg5Ln+1Dny7W1ffhSsGRZbD5H4abysNmGZ4qkj4HQpRIQkFUmYTUHMZ/c5DraTl8H9gHbedq\nDISUaFj/KlzcBR37g/+XYNu1+j5fiFpKQkFUiaup2YwPPkhSRh4/PNeH3p2qKRB0BYZhrXd8BGbm\nMPpf0DtQhqcQoowkFESli7+ZzfhvDpKckcf3gX3o3al19XxwwglY9xLE/wndRhkCwapD9Xy2EHWE\nhIKoVHE3DWcINzINZwi9OlZDIOTnwJ5PYd98sGhlGLzObZz0ORCiAiQURKWJvZHF+G8OcjMrnx8n\n98XboVXVf+jl/bDu75AcBV4TwO8jaFqN9y6EqGMkFESliEnJIiD4IOk5+fz0XF+8qjoQctIMQ1tH\nLoZWHeGpX8F5eNV+phD1gISCuGe3AyEjt4Blk/vhobGq2g88uwnWvw7pV291QvsHNGle+nZCiFJJ\nKIh7ciU5i4DgA2Tm6Vg2uS/uHaowEDISYdNbcPJXsHOFJ34EjU/VfZ4Q9ZCEgqiwy8mZBAQfJDu/\nigNBKTgaAptnQl6m4cxg4Ktg3rhqPk+IekxCQVTIpSRDIOQW6Fg+uR+u9i2r5oNuXDZ0QruwAxz6\ngf8CaONSNZ8lhJBQEOUXnZRJQPAB8nWK5VP60aN9FQSCXgfh/4UdH0IDM/jb5+DznHRCE6KKSSiI\ncrmQmMH44IMU6BXLp/Sle7sqCIRrJ2HdyxD3B3T1hdFfQCuH0rcTQtwzCQVRZuevZzD+m4Po9YoV\nU/rh0q5F5X5AQS7s+Rz2fgEWVvDIYnB/RDqhCVGNJBREmZy/nk5AcDigWBHUj25tKzkQroQbzg6S\nzoLnE+D3T2gms/cJUd0kFESpoq6lM/6bg0ADQoL64WxXiYGQmw7bP4CIb8BKA0+uhq4jKm//Qohy\nkVAQd3U2IZ0J3xzEzKwBK6b0w9muEjuJndsC61+DtDjo+7xhvgPphCaESUkoiBKdSUjjyW/CaWjW\ngBVB/XBqU0kH7MwkCJsBx3+BNt3huS3g0Kdy9i2EuCdler4vLCwMFxcXnJ2dmTt3bpH3ly1bhqen\nJ56engwYMICjR49WeqGiep2+msaEb8Ixb2i4ZFQpgaAUHF0JC7Vwci0MnQnP75FAEKIGKfVMQafT\nMW3aNLZu3YpGo0Gr1eLv74+rq6txnS5durB7925at27Npk2bCAoKIjw8vEoLF1XnVHwaT357kCbm\nDVkR1I8utpUwuf3NK4bxis5vBY3WMBOaXY97368QolKVGgoRERE4Ozvj6OgIQEBAAKGhoYVCYcCA\nAcY/9+vXj9jY2CooVVSHE3GpPLU4HMtGDVkxpR+d7zUQ9DrDTeTtHxiWR34CfaaAWcN7L1YIUelK\nDYW4uDgcHP7XcUij0dz1LGDx4sWMGjWqcqoT1epEXCpPfhtOs8aGM4RONvcYCNdPGx4zjT0EziNg\nzL8Nw1wLIWqsUkNBKVXktQYldCbauXMnixcvZu/evcW+HxwcTHBwMACJiYnlqVNUseOxqTz57UFa\nWDRixZR+dLRpWvGdFeQZOqDt+RyatICxweD5uHRCE6IWKDUUNBoNMTExxuXY2Fjs7e2LrHfs2DEm\nT57Mpk2bsLEpvtNRUFAQQUFBAPj4yJDHNcXRmJs8vTicFhaNCAnqh4P1PQRCzCHD2UHiafB4DEbO\nhWa2lVesEKJKlfr0kVarJSoqiujoaPLy8ggJCcHf37/QOleuXGHcuHH8+OOPdOvWrcqKFZXvSMxN\nnlocTkvLRqx8/h4CITcDNk2HxQ8YOqRN+Bke+VYCQYhaptQzBXNzcxYuXIifnx86nY7AwEDc3NxY\ntGgRAFOnTuWDDz4gOTmZF1980bhNZGRk1VYu7tmfV24wcXEErZo1IiSoPx1aWVZsR1HbDMNbp8aC\ndjKMmG24bCSEqHUaqOJuGlQDHx8fCQ4T+uPyDZ75LgLrZo0JCeqHfUUCITPZMPHNsZVg283wmGnH\nfpVfrBDCqKqPndKjuR7643IKz3x3CJvmhkBob1XOQFAKTqw2TI2ZkwqD34LBb4B5k6opWAhRbSQU\n6plDl1KY9F0Edi0tWDGlH+2sLMq3g9RYQye0qM3Qobfh7KCtW9UUK4SodhIK9UhEdAqTlkTQrqUF\ny8sbCHo9RC6Gbe+B0huGtu77vHRCE6KOkVCoJw5eTCZw6SHaWRnOENq2LEcgJJ41PGYaEw6O98OD\n86B15yqrVQhhOhIK9cCBC4ZAsG9lCAS7sgZCQR7smwd7PoPGzeDhReAVIJ3QhKjDJBTqqJx8HXvO\nJbL55DXWH4uno3VTlk/pR5sWZbwZHPuH4ezg+klwGwejPoHmdlVbtBDC5CQU6pDU7Hx2nrlO2IkE\ndp9LJDtfR0sLc8Z42jNjVPeyBUJeJuz4CMK/hubtYHwIuMhYVkLUFxIKtdz19By2nrpG2IkEDlxI\npkCvsGvRhEd6d2CkW3v6OlrTqGGZps2A89sNndBuXgGf52DEe2DRsirLF0LUMBIKtdDl5Ew2n0xg\n88lrHL5yA6Wgs01TnhvUBT/3dnhrWmFmVo7r/lkpsPkfcHQ52DjDs5ug04DStxNC1DkSCrWAUooz\nCemEnUhg88kEziSkA+DaviWvDu/GSPd2dGvbvMTRa++yYzj5q2HMouwbcN8bMPhNaFTOvgtCiDpD\nQqGG0usVf8bcuBUE17iSkkWDBuDTqTXvjO6Bn1u7exvNNDUONvwfnNsE9j3h6TXQzqPyvoAQolaS\nUKhB8gr0HLyYTNjJBLaeukZiei6NGjZggJMtLwx1YkSPtmV/eqgkej38sQS2zgZ9Afh+BH2nQkP5\nURBCSCiYXFZeAXvOJRJ2IoHtZ66TnlNA08YNGerSBj+3dtzf3Y6WFo0q58OSomDd3+HKfugyBB6c\nD9ZdKmffQog6QULBBG5m5bHt9HU2n0xgz7lEcgv0tGraCD+3dox0a8egrrZYNKrE4SN0+bBvPuz+\n1HC/4KGvwPtJ6YQmhChCQqGaJKTmsOWU4UbxwYsp6PSK9lYWBGgd8HNvR5/O1piX9dHRkuRnQ1o8\npMUZ/p8aa/j/5f2GmdBcH4ZRn0KLtpXzpYQQdY6EQhW6mJjB5pPX2HwygSMxNwFwbNOMoMGOjHRr\nh6fGquxPDJV0wE+LM/yXGgfZKUW3s2xtGKcoYDl0H115X04IUSdJKFQipRQn49Nu9SFI4Ny1DAA8\nOljxpp8Lfm5tcbYrZkay0g74afGQlVx0O8vW0FIDLe2hgw9YdYCWd/5nD43v4QklIUS9I6Fwj3R6\nReSlFOMZQdzNbMwagLazNbMfdMXXxYoODW4YDu5XI+Hsrd/q0+IhLbaUA/6tg7sc8IUQ1URCoQJy\nC3TsP5/M9uOXOX76NJY513AwS+E12xy8u2XSsdFNGmfGw7542FqeA779rd/82xtGJRVCiGomoVCS\n/Jz/XbpJiyM3JYarV86Tfv0KDTOu4kkS9zcw9Cym8a1tbgK5fzngt+xw66AvB3whRM1XplAICwvj\nlVdeQafTMXnyZGbMmFHo/TNnzvDss89y+PBhPvroI954440qKbbSFDrg33EZJzXuf9fx/3JJpwnQ\nSjUjr4Et+pbtybHrS4HGEfPWDnLAF0LUGaWGgk6nY9q0aWzduhWNRoNWq8Xf3x9XV1fjOtbW1ixY\nsIC1a9dWabFlkp8D6fFFr9vf5YAPgEUrsNKQY9mWSw27cbRhUw6lNCVeWaOa2+Pp6sowz874dLam\nYXkGmxNCiFqk1FCIiIjA2dkZR0dHAAICAggNDS0UCnZ2dtjZ2bFhw4aqq/S2rBS4drKEA348ZCUV\n3ebWAd/wlE6v/z2xc+ta/oXcloSdS2fzyQSOnUkFoKtdc0YOacckt3a42bcs/2BzQghRC5UaCnFx\ncTg4OBiXNRoN4eHhFfqw4OBggoODAUhMTKzQPri4E1YF/m/ZotX/rtsXc8A3PKVT+JKOUopjsam3\nHh2N40LiOQC8HFoxfWR3/Nza4timecXqE0KIWqzUUFBKFXmtor81BwUFERQUBICPj0+F9kHn+2Bi\naIkH/JIU6PREXEphy8lrbDmZQHxqDg3NGtC3izXPDOjMA65taW9lWbGahBCijig1FDQaDTExMcbl\n2NhY7O3tq7Sou2puV+a5gnPydeyNSmLzyQS2nb7Gjax8mpibMbhbG173dWF4dztaN2tc+o6EEKKe\nKDUUtFotUVFRREdH06FDB0JCQli+fHl11FYh6Tn57DhznS0nr7Hr7HUy83S0aGLO8B52+Lm1Y4hL\nG5o2lidxhRCiOKUeHc3NzVm4cCF+fn7odDoCAwNxc3Nj0aJFAEydOpWEhAR8fHxIS0vDzMyMefPm\ncerUKVq2rJ75fZMyctl6ytCjeN/5JPJ1CtvmTXioZwf83NrR39GGxub3ONicEELUAw1UcTcNqoGP\njw+RkZEV3j4mJYvNJxPYcvIahy6noBQ4WFsy0q0dfm7t6NmxtTw6KoSoc+712FmaWncdZd/5JD7e\neJqT8WkAdG/Xgr8P64qfWzt6tG8hj44KIcQ9qHWh0LRxQywaNeTtv3XHz60dnWykB7EQQlSWWhcK\nPTu2ZvULA0xdhhBC1Ely91UIIYSRhIIQQggjCQUhhBBGEgpCCCGMJBSEEEIYSSgIIYQwklAQQghh\nJKEghBDCyGRjH9na2tK5c+cKbZuYmEibNm0qt6BKUFPrgppbm9RVPlJX+dTFui5dukRSUjEzTFYS\nk4XCvajqAaEqqqbWBTW3NqmrfKSu8pG6yk8uHwkhhDCSUBBCCGHU8L333nvP1EVURO/evU1dQrFq\nal1Qc2uTuspH6iofqat8auU9BSGEEFVDLh8JIYQwklAQQghhVOFQyM7OZsiQIeh0OgC+//57unbt\nSteuXfn++++L3SY3N5cnnngCZ2dn+vbty6VLl4zvlbR9dHQ0ffv2pWvXrjzxxBPk5eUBsGzZMjw9\nPfH09GTAgAEcPXq01JpL2tdfjRw5klatWjFmzJhCrwcEBBAVFVXq5xSnrrbXkSNH6N+/P25ubnh6\nerJy5Urje9Jexf98NWzYEG9vb7y9vfH39ze+Lu1VtL127txpbCtvb28sLCxYu3YtIO1V0s/X9OnT\ncXd3x93dvWL/HlUFLVy4UM2bN08ppVRycrLq0qWLSk5OVikpKapLly4qJSWlyDZfffWVev7555VS\nSq1YsUI9/vjjpW7/2GOPqRUrViillHr++efVf/7zH6WUUvv27TOus3HjRtWnT59Say5pX3+1bds2\ntW7dOjV69OhCr+/atUtNnjy51M8pTl1tr7Nnz6pz584ppZSKi4tT7dq1Uzdu3FBKSXuV9PPVrFmz\nYl+X9iq+vW5LTk5WrVu3VpmZmUopaa/i2mv9+vVqxIgRKj8/X2VkZKjevXur1NRUpVTZ26vCodC/\nf38VHR2tlFJq+fLlKigoyPheUFCQWr58eZFtfH191f79+5VSSuXn5ysbGxul1+tL3F6v1ysbGxuV\nn5+vlFJq//79ytfXt8h+U1JSlL29/V3rLeu+btu5c2eRUNDpdKpz587GfZRHXW+v2zw9PY0hIe1V\nfHuVFArSXnf/+frvf/+rJkyYYFyW9iq6r08//VR9+OGHxuXAwEC1cuVKpVTZ26tCl4/y8vK4ePGi\ncZiKuLg4HBwcjO9rNBri4uKKbHfneubm5lhZWZGcnFzi9snJybRq1Qpzc/O77nfx4sWMGjXqrjWX\ndV93Y2ZmhrOzc5lO9e5UX9orIiKCvLw8nJycAGmvktorJycHHx8f+vXrZ7wUAtJepf18hYSEMH78\neOOytFfRfXl5ebFp0yaysrJISkpi586dxMTEAGVvL/O7vluCpKQkWrVqZVxWxTzV2qBBgyKvlbRe\neV+/086dO1m8eDF79+69a81lrbE0dnZ2xMfHl+sZ4/rQXlevXuXpp5/m+++/x8zsf79rSHsVdeXK\nFezt7bl48SLDhg3Dw8PDGKTSXsW7evUqx48fx8/Pr9Dr0l6F+fr6cujQIQYMGECbNm3o37+/MUig\nbO1VoTMFS0tLcnJyjMsajcaYRgCxsbHY29sX2e7O9QoKCkhNTcXa2rrE7W1tbbl58yYFBQXF7vfY\nsWNMnjyZ0NBQbGxs7lpzafsqq5ycHCwtLcu1TV1vr7S0NEaPHs2cOXPo169fofekvYq6/bqjoyND\nhw7lzz//NL4n7VW8n3/+mbFjx9KoUaNCr0t7FfWPf/yDI0eOsHXrVpRSdO3a1fhemdrrrheX7kKj\n0ajs7GyllOFGS+fOnVVKSopKSUlRnTt3VsnJyUW2WbhwYaEbNY899lip2z/66KOFbq589dVXSiml\nLl++rJycnNS+ffuKfM6wYcNUbGxskddL2ldxirunoJRS7u7uKj4+vuSGKUFdba/c3Fw1bNgw9e9/\n/7vY7y3tVVhKSorKyclRSimVmJionJ2d1cmTJ43vS3sVr2/fvmrHjh1FXpf2KqygoEAlJSUppZQ6\nevSocnNzK3QPoSztVeFQCAwMVFu3bjUuL168WDk5OSknJyf13XffGV+fNWuWCg0NVUoplZ2drR59\n9FHl5OSktFqtunDhQqnbX7hwQWm1WuXk5KQeffRR4z+o5557TrVq1Up5eXkpLy8v1bt3b6WU4WZK\nx44dVVZWVpGaS9rXoUOH1HPPPWdcb9CgQcrW1lZZWFioDh06qLCwMKWUUgkJCUqr1Up73dFeP/74\nozI3Nzfu18vLS/3555/SXiW01759+5S7u7vy9PRU7u7u6ttvvzVuL+1V/L/H6OhoZW9vr3Q6XaHt\npb2Ktld2drbq0aOH6tGjh+rbt6/x32J52qvCoXD48GH11FNPVXTzKnP8+HH12muvVcm+v/jii0L/\niMtD2qt8pL3KR9qrfKS9SlbhUFDKkI4FBQX3sota5bvvvqvQ42+3SXuVj7RX+Uh7lY+0V/FkQDwh\nhBBGMvaREEIIIwkFIYQQRhIKQgghjCQURJVp3rw5cPeRVO80adIkVq1addd9Dh06tFwTnu/atavI\naLemsnbtWk6dOmVcLum7REZG8ve//706SxPCqELDXAhRHk2bNuWHH36ga9euxi72fn5+hYYaqA/W\nrl3LmDFjcHV1vet6Pj4++Pj4VFNVQhQmZwqiynXr1s3Y1d7e3h47OzsSExPvus0HH3yAVqvF3d2d\noKCgQmO//PTTTwwYMAB3d3ciIiIAyMzMJDAwEK1WS8+ePQkNDS1Tbbt37zaO1d+zZ0/S09PZtWsX\nQ4YM4fHHH6dbt27MmDGDZcuW0adPHzw8PLhw4QIAly9fZvjw4Xh6ejJ8+HCuXLlS4uv79+9n3bp1\nvPnmm3h7exv38csvv9CnTx+6devG77//DhQ+u3nvvfcIDAxk6NChODo6smDBAmPtH374Id27d+eB\nBx5g/PjxfP7552X6zkLcVVU/Gyvqr+KGiA4PD1fdu3cv0jtVKaWeeeYZ9csvvyilVKFhBp566im1\nbt06pZRSQ4YMMY4Jv3v3buXm5qaUUmrmzJnqxx9/VEopdePGDdW1a1eVkZFR4nAlt40ZM0bt3btX\nKaVUenq6ys/PVzt37lRWVlYqPj5e5eTkKHt7e/Xuu+8qpZSaN2+eeuWVV4zbLl26VClleOb9oYce\nuuvrd36/29/l9ddfV0optWHDBjV8+HClVOEhVmbPnq369++vcnJyVGJiorK2tlZ5eXnq0KFDysvL\nS2VlZam0tDTl7OysPvvssxK/pxBlJWcKotrcHkl1yZIlhUZSLc7OnTvp27cvHh4e7Nixg5MnTxrf\nuz188uDBg0lLS+PmzZts2bKFuXPn4u3tzdChQ8nJyTH+5n43AwcO5PXXX2fBggXcvHnTOKKkVqul\nffv2NGnSBCcnJ3x9fQHw8PAwzrh14MABJkyYAMDTTz9tHOmypNeLM27cOAB69+5daCavO40ePZom\nTZpga2uLnZ0d165dY+/evTz00ENYWlrSokULHnzwwVK/qxBlIfcURLW420iqf5WTk8OLL75IZGQk\nDg4OvPfee4VGtfzrkMG3hylevXo1Li4uhd67du3aXT9rxowZjB49mo0bN9KvXz+2bdsGQJMmTYzr\nmJmZGZfNzMyMI1X+VUlDP99tSOjb+23YsGGJ+72zltvrKelzKqqInCmIKpeXl8fYsWOZOHEijz32\nWKH3Zs6cyZo1awq9diznct8AAAGbSURBVDsAbG1tycjIKPJE0u2nl/bu3YuVlRVWVlb4+fnx5Zdf\nGg+Wdw5HfTcXLlzAw8OD6dOn4+Pjw5kzZ8r8vQYMGEBISAhgmHN30KBBd329RYsWpKenl3n/dzNo\n0CB+++03cnJyyMjIYMOGDZWyXyEkFESV+/nnn9mzZw9Lly413tQ9cuQIAMePH6ddu3aF1m/VqhVT\npkzBw8ODhx9+GK1WW+j91q1bM2DAAKZOncrixYsBmDVrFvn5+Xh6euLu7s6sWbPKVNu8efNwd3fH\ny8sLS0vLUmfAutOCBQtYsmQJnp6e/Pjjj8yfP/+urwcEBPDZZ5/Rs2dP443mitJqtfj7++Pl5cW4\ncePw8fHBysrqnvYpBICMfSRMys/Pj82bN5u6jFopIyOD5s2bk5WVxeDBgwkODqZXr16mLkvUchIK\nQtRSEyZM4NSpU+Tk5PDMM88wc+ZMU5ck6gAJBVEvLFmyxHgZ57aBAwfy1VdfmagiIWomCQUhhBBG\ncqNZCCGEkYSCEEIIIwkFIYQQRhIKQgghjCQUhBBCGP0/sYO+3zkOTvQAAAAASUVORK5CYII=\n",
            "text/plain": [
              "\u003cFigure size 600x400 with 1 Axes\u003e"
            ]
          },
          "metadata": {
            "tags": []
          },
          "output_type": "display_data"
        },
        {
          "data": {
            "image/png": "iVBORw0KGgoAAAANSUhEUgAAAZIAAAELCAYAAADz6wBxAAAABHNCSVQICAgIfAhkiAAAAAlwSFlz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\n",
            "text/plain": [
              "\u003cFigure size 600x400 with 1 Axes\u003e"
            ]
          },
          "metadata": {
            "tags": []
          },
          "output_type": "display_data"
        },
        {
          "data": {
            "image/png": "iVBORw0KGgoAAAANSUhEUgAAAZIAAAELCAYAAADz6wBxAAAABHNCSVQICAgIfAhkiAAAAAlwSFlz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\ngg==\n",
            "text/plain": [
              "\u003cFigure size 600x400 with 1 Axes\u003e"
            ]
          },
          "metadata": {
            "tags": []
          },
          "output_type": "display_data"
        }
      ],
      "source": [
        "df_17568541.plot(y=['test_ece', 'test_ece_mean_corrupted'], use_index=True)\n",
        "df_17568541.plot(y=['test_accuracy'], use_index=True)\n",
        "df_17568541.plot(y=['test_accuracy_mean_corrupted'], use_index=True)"
      ]
    },
    {
      "cell_type": "markdown",
      "metadata": {
        "id": "eqY0NY3akFkU"
      },
      "source": [
        "## 17568823"
      ]
    },
    {
      "cell_type": "code",
      "execution_count": null,
      "metadata": {
        "id": "D6RpT-e2kFy6"
      },
      "outputs": [],
      "source": [
        "xid = 17568823 \n",
        "experiment_17568823 = xm_client.get_experiment(xid)\n",
        "raw_df_17568823 = get_experiment_measurements(experiment_17568823)"
      ]
    },
    {
      "cell_type": "code",
      "execution_count": null,
      "metadata": {
        "colab": {
          "height": 252
        },
        "executionInfo": {
          "elapsed": 697,
          "status": "ok",
          "timestamp": 1601312573193,
          "user": {
            "displayName": "Ghassen Jerfel",
            "photoUrl": "https://lh3.googleusercontent.com/-evET3OcsU5g/AAAAAAAAAAI/AAAAAAAABIE/AuuFyTqHyCc/s64/photo.jpg",
            "userId": "12697290324410609870"
          },
          "user_tz": 420
        },
        "id": "_RlbdWgNkF2E",
        "outputId": "06f7815e-507f-455e-8c09-2a509aca2e43"
      },
      "outputs": [
        {
          "name": "stdout",
          "output_type": "stream",
          "text": [
            "groups = ['l2', 'label_smoothing']\n"
          ]
        },
        {
          "data": {
            "text/html": [
              "\u003cdiv\u003e\n",
              "\u003cstyle scoped\u003e\n",
              "    .dataframe tbody tr th:only-of-type {\n",
              "        vertical-align: middle;\n",
              "    }\n",
              "\n",
              "    .dataframe tbody tr th {\n",
              "        vertical-align: top;\n",
              "    }\n",
              "\n",
              "    .dataframe thead th {\n",
              "        text-align: right;\n",
              "    }\n",
              "\u003c/style\u003e\n",
              "\u003ctable border=\"1\" class=\"dataframe\"\u003e\n",
              "  \u003cthead\u003e\n",
              "    \u003ctr style=\"text-align: right;\"\u003e\n",
              "      \u003cth\u003e\u003c/th\u003e\n",
              "      \u003cth\u003e\u003c/th\u003e\n",
              "      \u003cth\u003etest_accuracy\u003c/th\u003e\n",
              "      \u003cth\u003etest_ece\u003c/th\u003e\n",
              "      \u003cth\u003etest_member_ece_mean\u003c/th\u003e\n",
              "      \u003cth\u003etest_log_likelihood\u003c/th\u003e\n",
              "      \u003cth\u003etest_accuracy_mean_corrupted\u003c/th\u003e\n",
              "      \u003cth\u003etest_ece_mean_corrupted\u003c/th\u003e\n",
              "      \u003cth\u003etest_member_ece_mean_corrupted\u003c/th\u003e\n",
              "    \u003c/tr\u003e\n",
              "    \u003ctr\u003e\n",
              "      \u003cth\u003el2\u003c/th\u003e\n",
              "      \u003cth\u003elabel_smoothing\u003c/th\u003e\n",
              "      \u003cth\u003e\u003c/th\u003e\n",
              "      \u003cth\u003e\u003c/th\u003e\n",
              "      \u003cth\u003e\u003c/th\u003e\n",
              "      \u003cth\u003e\u003c/th\u003e\n",
              "      \u003cth\u003e\u003c/th\u003e\n",
              "      \u003cth\u003e\u003c/th\u003e\n",
              "      \u003cth\u003e\u003c/th\u003e\n",
              "    \u003c/tr\u003e\n",
              "  \u003c/thead\u003e\n",
              "  \u003ctbody\u003e\n",
              "    \u003ctr\u003e\n",
              "      \u003cth rowspan=\"5\" valign=\"top\"\u003e0.0003\u003c/th\u003e\n",
              "      \u003cth\u003e0.9\u003c/th\u003e\n",
              "      \u003ctd\u003e0.808193\u003c/td\u003e\n",
              "      \u003ctd\u003e0.703890\u003c/td\u003e\n",
              "      \u003ctd\u003e0.693464\u003c/td\u003e\n",
              "      \u003ctd\u003e-2.592397\u003c/td\u003e\n",
              "      \u003ctd\u003e0.544093\u003c/td\u003e\n",
              "      \u003ctd\u003e0.460426\u003c/td\u003e\n",
              "      \u003ctd\u003e0.0\u003c/td\u003e\n",
              "    \u003c/tr\u003e\n",
              "    \u003ctr\u003e\n",
              "      \u003cth\u003e0.2\u003c/th\u003e\n",
              "      \u003ctd\u003e0.802517\u003c/td\u003e\n",
              "      \u003ctd\u003e0.102855\u003c/td\u003e\n",
              "      \u003ctd\u003e0.097559\u003c/td\u003e\n",
              "      \u003ctd\u003e-1.010689\u003c/td\u003e\n",
              "      \u003ctd\u003e0.540204\u003c/td\u003e\n",
              "      \u003ctd\u003e0.116839\u003c/td\u003e\n",
              "      \u003ctd\u003e0.0\u003c/td\u003e\n",
              "    \u003c/tr\u003e\n",
              "    \u003ctr\u003e\n",
              "      \u003cth\u003e0.1\u003c/th\u003e\n",
              "      \u003ctd\u003e0.801816\u003c/td\u003e\n",
              "      \u003ctd\u003e0.047794\u003c/td\u003e\n",
              "      \u003ctd\u003e0.046013\u003c/td\u003e\n",
              "      \u003ctd\u003e-0.904032\u003c/td\u003e\n",
              "      \u003ctd\u003e0.538239\u003c/td\u003e\n",
              "      \u003ctd\u003e0.136506\u003c/td\u003e\n",
              "      \u003ctd\u003e0.0\u003c/td\u003e\n",
              "    \u003c/tr\u003e\n",
              "    \u003ctr\u003e\n",
              "      \u003cth\u003e0.5\u003c/th\u003e\n",
              "      \u003ctd\u003e0.799579\u003c/td\u003e\n",
              "      \u003ctd\u003e0.349760\u003c/td\u003e\n",
              "      \u003ctd\u003e0.341829\u003c/td\u003e\n",
              "      \u003ctd\u003e-1.403092\u003c/td\u003e\n",
              "      \u003ctd\u003e0.537738\u003c/td\u003e\n",
              "      \u003ctd\u003e0.215779\u003c/td\u003e\n",
              "      \u003ctd\u003e0.0\u003c/td\u003e\n",
              "    \u003c/tr\u003e\n",
              "    \u003ctr\u003e\n",
              "      \u003cth\u003e0.7\u003c/th\u003e\n",
              "      \u003ctd\u003e0.794538\u003c/td\u003e\n",
              "      \u003ctd\u003e0.513155\u003c/td\u003e\n",
              "      \u003ctd\u003e0.503048\u003c/td\u003e\n",
              "      \u003ctd\u003e-1.798775\u003c/td\u003e\n",
              "      \u003ctd\u003e0.532835\u003c/td\u003e\n",
              "      \u003ctd\u003e0.316459\u003c/td\u003e\n",
              "      \u003ctd\u003e0.0\u003c/td\u003e\n",
              "    \u003c/tr\u003e\n",
              "  \u003c/tbody\u003e\n",
              "\u003c/table\u003e\n",
              "\u003c/div\u003e"
            ],
            "text/plain": [
              "                        test_accuracy  ...  test_member_ece_mean_corrupted\n",
              "l2     label_smoothing                 ...                                \n",
              "0.0003 0.9                   0.808193  ...                             0.0\n",
              "       0.2                   0.802517  ...                             0.0\n",
              "       0.1                   0.801816  ...                             0.0\n",
              "       0.5                   0.799579  ...                             0.0\n",
              "       0.7                   0.794538  ...                             0.0\n",
              "\n",
              "[5 rows x 7 columns]"
            ]
          },
          "execution_count": 67,
          "metadata": {
            "tags": []
          },
          "output_type": "execute_result"
        }
      ],
      "source": [
        "filtered_df = raw_df_17568823[raw_df_17568823['l2']==0.0003]\n",
        "filtered_df = filtered_df[filtered_df['label_smoothing'] \u003e 0]\n",
        "filtered_df = filtered_df[filtered_df['label_smoothing'] \u003c 1]\n",
        "\n",
        "df_17568823 = average_results(filtered_df, experiment_17568823, ['seed'])\n",
        "df_17568823[['test_accuracy', 'test_ece', 'test_member_ece_mean', 'test_log_likelihood', 'test_accuracy_mean_corrupted', 'test_ece_mean_corrupted', 'test_member_ece_mean_corrupted']].sort_values(by=['test_accuracy'], ascending=False)"
      ]
    },
    {
      "cell_type": "code",
      "execution_count": null,
      "metadata": {
        "colab": {
          "height": 835
        },
        "executionInfo": {
          "elapsed": 789,
          "status": "ok",
          "timestamp": 1601312574497,
          "user": {
            "displayName": "Ghassen Jerfel",
            "photoUrl": "https://lh3.googleusercontent.com/-evET3OcsU5g/AAAAAAAAAAI/AAAAAAAABIE/AuuFyTqHyCc/s64/photo.jpg",
            "userId": "12697290324410609870"
          },
          "user_tz": 420
        },
        "id": "NDva-EHRkyFi",
        "outputId": "3c1b6d4b-c8fd-492c-d3be-08c717a5e7d8"
      },
      "outputs": [
        {
          "data": {
            "text/plain": [
              "\u003cmatplotlib.axes._subplots.AxesSubplot at 0x7fcae77a34a8\u003e"
            ]
          },
          "execution_count": 68,
          "metadata": {
            "tags": []
          },
          "output_type": "execute_result"
        },
        {
          "data": {
            "image/png": "iVBORw0KGgoAAAANSUhEUgAAAYUAAAELCAYAAAA2mZrgAAAABHNCSVQICAgIfAhkiAAAAAlwSFlz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\nJ6EghBBCT0JBCCGE3v8HEstTIDuF56kAAAAASUVORK5CYII=\n",
            "text/plain": [
              "\u003cFigure size 600x400 with 1 Axes\u003e"
            ]
          },
          "metadata": {
            "tags": []
          },
          "output_type": "display_data"
        },
        {
          "data": {
            "image/png": "iVBORw0KGgoAAAANSUhEUgAAAZIAAAELCAYAAADz6wBxAAAABHNCSVQICAgIfAhkiAAAAAlwSFlz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\nEkIIIe1CiYQQQki7/H+fTHjotLj2HQAAAABJRU5ErkJggg==\n",
            "text/plain": [
              "\u003cFigure size 600x400 with 1 Axes\u003e"
            ]
          },
          "metadata": {
            "tags": []
          },
          "output_type": "display_data"
        },
        {
          "data": {
            "image/png": "iVBORw0KGgoAAAANSUhEUgAAAZIAAAELCAYAAADz6wBxAAAABHNCSVQICAgIfAhkiAAAAAlwSFlz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\nkRBCCGmV/w9v9xjJjVeGJgAAAABJRU5ErkJggg==\n",
            "text/plain": [
              "\u003cFigure size 600x400 with 1 Axes\u003e"
            ]
          },
          "metadata": {
            "tags": []
          },
          "output_type": "display_data"
        }
      ],
      "source": [
        "df_17568823.plot(y=['test_ece', 'test_ece_mean_corrupted'], use_index=True)\n",
        "df_17568823.plot(y=['test_accuracy'], use_index=True)\n",
        "df_17568823.plot(y=['test_accuracy_mean_corrupted'], use_index=True)"
      ]
    },
    {
      "cell_type": "code",
      "execution_count": null,
      "metadata": {
        "colab": {
          "height": 439
        },
        "executionInfo": {
          "elapsed": 62841,
          "status": "ok",
          "timestamp": 1601312657032,
          "user": {
            "displayName": "Ghassen Jerfel",
            "photoUrl": "https://lh3.googleusercontent.com/-evET3OcsU5g/AAAAAAAAAAI/AAAAAAAABIE/AuuFyTqHyCc/s64/photo.jpg",
            "userId": "12697290324410609870"
          },
          "user_tz": 420
        },
        "id": "W-cTnb4bpFOm",
        "outputId": "8a675826-7753-4bab-a818-e35fe259ae8c"
      },
      "outputs": [
        {
          "data": {
            "text/html": [
              "\u003cdiv\u003e\n",
              "\u003cstyle scoped\u003e\n",
              "    .dataframe tbody tr th:only-of-type {\n",
              "        vertical-align: middle;\n",
              "    }\n",
              "\n",
              "    .dataframe tbody tr th {\n",
              "        vertical-align: top;\n",
              "    }\n",
              "\n",
              "    .dataframe thead th {\n",
              "        text-align: right;\n",
              "    }\n",
              "\u003c/style\u003e\n",
              "\u003ctable border=\"1\" class=\"dataframe\"\u003e\n",
              "  \u003cthead\u003e\n",
              "    \u003ctr style=\"text-align: right;\"\u003e\n",
              "      \u003cth\u003e\u003c/th\u003e\n",
              "      \u003cth\u003eseed\u003c/th\u003e\n",
              "      \u003cth\u003el2\u003c/th\u003e\n",
              "      \u003cth\u003elabel_smoothing\u003c/th\u003e\n",
              "      \u003cth\u003etest_accuracy_member_3\u003c/th\u003e\n",
              "      \u003cth\u003etest_elbo_mean_4\u003c/th\u003e\n",
              "      \u003cth\u003etest_elbo_mean_2\u003c/th\u003e\n",
              "      \u003cth\u003etrain_average_kl\u003c/th\u003e\n",
              "      \u003cth\u003ecorrupt_diversity_cosine_similarity_mean_5\u003c/th\u003e\n",
              "      \u003cth\u003ecorrupt_diversity_cosine_similarity_mean_3\u003c/th\u003e\n",
              "      \u003cth\u003etest_nll_median_1\u003c/th\u003e\n",
              "      \u003cth\u003etest_ece_mean_3\u003c/th\u003e\n",
              "      \u003cth\u003etest_ece_member_2\u003c/th\u003e\n",
              "      \u003cth\u003etest_kl_median_4\u003c/th\u003e\n",
              "      \u003cth\u003etest_nll_mean_1\u003c/th\u003e\n",
              "      \u003cth\u003etest_accuracy_member_2\u003c/th\u003e\n",
              "      \u003cth\u003etest_member_ece_mean_3\u003c/th\u003e\n",
              "      \u003cth\u003etest_ece_median_2\u003c/th\u003e\n",
              "      \u003cth\u003etrain_log_likelihood\u003c/th\u003e\n",
              "      \u003cth\u003ecorrupt_diversity_disagreement_mean_corrupted\u003c/th\u003e\n",
              "      \u003cth\u003etest_ece_median_3\u003c/th\u003e\n",
              "      \u003cth\u003etest_ece_median_5\u003c/th\u003e\n",
              "      \u003cth\u003etest_ece_median_1\u003c/th\u003e\n",
              "      \u003cth\u003etest_nll_median_3\u003c/th\u003e\n",
              "      \u003cth\u003etest_accuracy_mean_1\u003c/th\u003e\n",
              "      \u003cth\u003etest_nll_median_4\u003c/th\u003e\n",
              "      \u003cth\u003etest_nll_median_2\u003c/th\u003e\n",
              "      \u003cth\u003etrain_accuracy\u003c/th\u003e\n",
              "      \u003cth\u003ecorrupt_diversity_average_kl_mean_1\u003c/th\u003e\n",
              "      \u003cth\u003etest_nll_member_1\u003c/th\u003e\n",
              "      \u003cth\u003etest_kl_mean_5\u003c/th\u003e\n",
              "      \u003cth\u003etest_elbo_mean_corrupted\u003c/th\u003e\n",
              "      \u003cth\u003etest_ece_median_4\u003c/th\u003e\n",
              "      \u003cth\u003etest_member_ece_mean_1\u003c/th\u003e\n",
              "      \u003cth\u003etest_nll_median_5\u003c/th\u003e\n",
              "      \u003cth\u003ecorrupt_diversity_disagreement_mean_5\u003c/th\u003e\n",
              "      \u003cth\u003etest_accuracy_median_1\u003c/th\u003e\n",
              "      \u003cth\u003etest_accuracy_median_3\u003c/th\u003e\n",
              "      \u003cth\u003etest_member_accuracy_mean\u003c/th\u003e\n",
              "      \u003cth\u003etest_elbo_mean_1\u003c/th\u003e\n",
              "      \u003cth\u003etrain_disagreement\u003c/th\u003e\n",
              "      \u003cth\u003e...\u003c/th\u003e\n",
              "      \u003cth\u003etest_ece_mean_corrupted\u003c/th\u003e\n",
              "      \u003cth\u003etest_elbo_median_2\u003c/th\u003e\n",
              "      \u003cth\u003etest_elbo_median_4\u003c/th\u003e\n",
              "      \u003cth\u003ecorrupt_diversity_cosine_similarity_mean_1\u003c/th\u003e\n",
              "      \u003cth\u003etest_ece_member_3\u003c/th\u003e\n",
              "      \u003cth\u003etest_disagreement\u003c/th\u003e\n",
              "      \u003cth\u003etest_accuracy_member_1\u003c/th\u003e\n",
              "      \u003cth\u003ecorrupt_diversity_cosine_similarity_mean_2\u003c/th\u003e\n",
              "      \u003cth\u003etest_member_acc_mean_4\u003c/th\u003e\n",
              "      \u003cth\u003etest_ece_mean_4\u003c/th\u003e\n",
              "      \u003cth\u003etest_ece_mean_2\u003c/th\u003e\n",
              "      \u003cth\u003etest_ece\u003c/th\u003e\n",
              "      \u003cth\u003etest_accuracy_mean_4\u003c/th\u003e\n",
              "      \u003cth\u003etest_kl_mean_1\u003c/th\u003e\n",
              "      \u003cth\u003etrain_loss\u003c/th\u003e\n",
              "      \u003cth\u003etest_ece_member_0\u003c/th\u003e\n",
              "      \u003cth\u003etrain_ece\u003c/th\u003e\n",
              "      \u003cth\u003etest_nll_member_3\u003c/th\u003e\n",
              "      \u003cth\u003etest_accuracy_mean_3\u003c/th\u003e\n",
              "      \u003cth\u003etest_elbo_median_3\u003c/th\u003e\n",
              "      \u003cth\u003etest_nll_member_2\u003c/th\u003e\n",
              "      \u003cth\u003ecorrupt_diversity_disagreement_mean_4\u003c/th\u003e\n",
              "      \u003cth\u003ecorrupt_diversity_disagreement_mean_2\u003c/th\u003e\n",
              "      \u003cth\u003etest_member_ece_mean_corrupted\u003c/th\u003e\n",
              "      \u003cth\u003etest_ece_member_1\u003c/th\u003e\n",
              "      \u003cth\u003etest_member_ece_mean_4\u003c/th\u003e\n",
              "      \u003cth\u003ecorrupt_diversity_average_kl_mean_5\u003c/th\u003e\n",
              "      \u003cth\u003etest_member_acc_mean_2\u003c/th\u003e\n",
              "      \u003cth\u003ecorrupt_diversity_disagreement_mean_3\u003c/th\u003e\n",
              "      \u003cth\u003etest_elbo_median_1\u003c/th\u003e\n",
              "      \u003cth\u003etest_elbo_median_5\u003c/th\u003e\n",
              "      \u003cth\u003etest_elbo_mean_5\u003c/th\u003e\n",
              "      \u003cth\u003etest_nll_mean_corrupted\u003c/th\u003e\n",
              "      \u003cth\u003ecorrupt_diversity_cosine_similarity_mean_4\u003c/th\u003e\n",
              "      \u003cth\u003ecorrupt_diversity_cosine_similarity_mean_corrupted\u003c/th\u003e\n",
              "      \u003cth\u003etest_member_ece_mean_5\u003c/th\u003e\n",
              "      \u003cth\u003etest_accuracy_mean_5\u003c/th\u003e\n",
              "      \u003cth\u003etest_kl_median_2\u003c/th\u003e\n",
              "      \u003cth\u003etest_accuracy\u003c/th\u003e\n",
              "      \u003cth\u003etrain_similarity\u003c/th\u003e\n",
              "    \u003c/tr\u003e\n",
              "  \u003c/thead\u003e\n",
              "  \u003ctbody\u003e\n",
              "    \u003ctr\u003e\n",
              "      \u003cth\u003e0\u003c/th\u003e\n",
              "      \u003ctd\u003e0\u003c/td\u003e\n",
              "      \u003ctd\u003e0.0001\u003c/td\u003e\n",
              "      \u003ctd\u003e0.0\u003c/td\u003e\n",
              "      \u003ctd\u003eNaN\u003c/td\u003e\n",
              "      \u003ctd\u003eNaN\u003c/td\u003e\n",
              "      \u003ctd\u003eNaN\u003c/td\u003e\n",
              "      \u003ctd\u003eNaN\u003c/td\u003e\n",
              "      \u003ctd\u003eNaN\u003c/td\u003e\n",
              "      \u003ctd\u003eNaN\u003c/td\u003e\n",
              "      \u003ctd\u003eNaN\u003c/td\u003e\n",
              "      \u003ctd\u003eNaN\u003c/td\u003e\n",
              "      \u003ctd\u003eNaN\u003c/td\u003e\n",
              "      \u003ctd\u003eNaN\u003c/td\u003e\n",
              "      \u003ctd\u003eNaN\u003c/td\u003e\n",
              "      \u003ctd\u003eNaN\u003c/td\u003e\n",
              "      \u003ctd\u003eNaN\u003c/td\u003e\n",
              "      \u003ctd\u003eNaN\u003c/td\u003e\n",
              "      \u003ctd\u003eNaN\u003c/td\u003e\n",
              "      \u003ctd\u003eNaN\u003c/td\u003e\n",
              "      \u003ctd\u003eNaN\u003c/td\u003e\n",
              "      \u003ctd\u003eNaN\u003c/td\u003e\n",
              "      \u003ctd\u003eNaN\u003c/td\u003e\n",
              "      \u003ctd\u003eNaN\u003c/td\u003e\n",
              "      \u003ctd\u003eNaN\u003c/td\u003e\n",
              "      \u003ctd\u003eNaN\u003c/td\u003e\n",
              "      \u003ctd\u003eNaN\u003c/td\u003e\n",
              "      \u003ctd\u003eNaN\u003c/td\u003e\n",
              "      \u003ctd\u003eNaN\u003c/td\u003e\n",
              "      \u003ctd\u003eNaN\u003c/td\u003e\n",
              "      \u003ctd\u003eNaN\u003c/td\u003e\n",
              "      \u003ctd\u003eNaN\u003c/td\u003e\n",
              "      \u003ctd\u003eNaN\u003c/td\u003e\n",
              "      \u003ctd\u003eNaN\u003c/td\u003e\n",
              "      \u003ctd\u003eNaN\u003c/td\u003e\n",
              "      \u003ctd\u003eNaN\u003c/td\u003e\n",
              "      \u003ctd\u003eNaN\u003c/td\u003e\n",
              "      \u003ctd\u003eNaN\u003c/td\u003e\n",
              "      \u003ctd\u003eNaN\u003c/td\u003e\n",
              "      \u003ctd\u003eNaN\u003c/td\u003e\n",
              "      \u003ctd\u003eNaN\u003c/td\u003e\n",
              "      \u003ctd\u003e...\u003c/td\u003e\n",
              "      \u003ctd\u003eNaN\u003c/td\u003e\n",
              "      \u003ctd\u003eNaN\u003c/td\u003e\n",
              "      \u003ctd\u003eNaN\u003c/td\u003e\n",
              "      \u003ctd\u003eNaN\u003c/td\u003e\n",
              "      \u003ctd\u003eNaN\u003c/td\u003e\n",
              "      \u003ctd\u003eNaN\u003c/td\u003e\n",
              "      \u003ctd\u003eNaN\u003c/td\u003e\n",
              "      \u003ctd\u003eNaN\u003c/td\u003e\n",
              "      \u003ctd\u003eNaN\u003c/td\u003e\n",
              "      \u003ctd\u003eNaN\u003c/td\u003e\n",
              "      \u003ctd\u003eNaN\u003c/td\u003e\n",
              "      \u003ctd\u003eNaN\u003c/td\u003e\n",
              "      \u003ctd\u003eNaN\u003c/td\u003e\n",
              "      \u003ctd\u003eNaN\u003c/td\u003e\n",
              "      \u003ctd\u003eNaN\u003c/td\u003e\n",
              "      \u003ctd\u003eNaN\u003c/td\u003e\n",
              "      \u003ctd\u003eNaN\u003c/td\u003e\n",
              "      \u003ctd\u003eNaN\u003c/td\u003e\n",
              "      \u003ctd\u003eNaN\u003c/td\u003e\n",
              "      \u003ctd\u003eNaN\u003c/td\u003e\n",
              "      \u003ctd\u003eNaN\u003c/td\u003e\n",
              "      \u003ctd\u003eNaN\u003c/td\u003e\n",
              "      \u003ctd\u003eNaN\u003c/td\u003e\n",
              "      \u003ctd\u003eNaN\u003c/td\u003e\n",
              "      \u003ctd\u003eNaN\u003c/td\u003e\n",
              "      \u003ctd\u003eNaN\u003c/td\u003e\n",
              "      \u003ctd\u003eNaN\u003c/td\u003e\n",
              "      \u003ctd\u003eNaN\u003c/td\u003e\n",
              "      \u003ctd\u003eNaN\u003c/td\u003e\n",
              "      \u003ctd\u003eNaN\u003c/td\u003e\n",
              "      \u003ctd\u003eNaN\u003c/td\u003e\n",
              "      \u003ctd\u003eNaN\u003c/td\u003e\n",
              "      \u003ctd\u003eNaN\u003c/td\u003e\n",
              "      \u003ctd\u003eNaN\u003c/td\u003e\n",
              "      \u003ctd\u003eNaN\u003c/td\u003e\n",
              "      \u003ctd\u003eNaN\u003c/td\u003e\n",
              "      \u003ctd\u003eNaN\u003c/td\u003e\n",
              "      \u003ctd\u003eNaN\u003c/td\u003e\n",
              "      \u003ctd\u003eNaN\u003c/td\u003e\n",
              "      \u003ctd\u003eNaN\u003c/td\u003e\n",
              "    \u003c/tr\u003e\n",
              "    \u003ctr\u003e\n",
              "      \u003cth\u003e1\u003c/th\u003e\n",
              "      \u003ctd\u003e0\u003c/td\u003e\n",
              "      \u003ctd\u003e0.0001\u003c/td\u003e\n",
              "      \u003ctd\u003e0.1\u003c/td\u003e\n",
              "      \u003ctd\u003e0.794471\u003c/td\u003e\n",
              "      \u003ctd\u003e0.0\u003c/td\u003e\n",
              "      \u003ctd\u003e0.0\u003c/td\u003e\n",
              "      \u003ctd\u003e0.002219\u003c/td\u003e\n",
              "      \u003ctd\u003e1.694344\u003c/td\u003e\n",
              "      \u003ctd\u003e2.485493\u003c/td\u003e\n",
              "      \u003ctd\u003e1.311271\u003c/td\u003e\n",
              "      \u003ctd\u003e0.106418\u003c/td\u003e\n",
              "      \u003ctd\u003e0.042560\u003c/td\u003e\n",
              "      \u003ctd\u003e0.0\u003c/td\u003e\n",
              "      \u003ctd\u003e1.502208\u003c/td\u003e\n",
              "      \u003ctd\u003e0.793269\u003c/td\u003e\n",
              "      \u003ctd\u003e0.0\u003c/td\u003e\n",
              "      \u003ctd\u003e0.045795\u003c/td\u003e\n",
              "      \u003ctd\u003e-0.782260\u003c/td\u003e\n",
              "      \u003ctd\u003e0.153290\u003c/td\u003e\n",
              "      \u003ctd\u003e0.057096\u003c/td\u003e\n",
              "      \u003ctd\u003e0.164337\u003c/td\u003e\n",
              "      \u003ctd\u003e0.048614\u003c/td\u003e\n",
              "      \u003ctd\u003e1.828291\u003c/td\u003e\n",
              "      \u003ctd\u003e0.681320\u003c/td\u003e\n",
              "      \u003ctd\u003e2.126575\u003c/td\u003e\n",
              "      \u003ctd\u003e1.549064\u003c/td\u003e\n",
              "      \u003ctd\u003e0.999785\u003c/td\u003e\n",
              "      \u003ctd\u003e0.090531\u003c/td\u003e\n",
              "      \u003ctd\u003e0.987605\u003c/td\u003e\n",
              "      \u003ctd\u003e0.0\u003c/td\u003e\n",
              "      \u003ctd\u003e0.0\u003c/td\u003e\n",
              "      \u003ctd\u003e0.090458\u003c/td\u003e\n",
              "      \u003ctd\u003e0.0\u003c/td\u003e\n",
              "      \u003ctd\u003e2.911440\u003c/td\u003e\n",
              "      \u003ctd\u003e0.193416\u003c/td\u003e\n",
              "      \u003ctd\u003e0.714143\u003c/td\u003e\n",
              "      \u003ctd\u003e0.608073\u003c/td\u003e\n",
              "      \u003ctd\u003e0.795272\u003c/td\u003e\n",
              "      \u003ctd\u003e0.0\u003c/td\u003e\n",
              "      \u003ctd\u003e0.000130\u003c/td\u003e\n",
              "      \u003ctd\u003e...\u003c/td\u003e\n",
              "      \u003ctd\u003e0.120713\u003c/td\u003e\n",
              "      \u003ctd\u003e0.0\u003c/td\u003e\n",
              "      \u003ctd\u003e0.0\u003c/td\u003e\n",
              "      \u003ctd\u003e3.416003\u003c/td\u003e\n",
              "      \u003ctd\u003e0.048489\u003c/td\u003e\n",
              "      \u003ctd\u003e0.087751\u003c/td\u003e\n",
              "      \u003ctd\u003e0.797476\u003c/td\u003e\n",
              "      \u003ctd\u003e2.779912\u003c/td\u003e\n",
              "      \u003ctd\u003e0.476110\u003c/td\u003e\n",
              "      \u003ctd\u003e0.145601\u003c/td\u003e\n",
              "      \u003ctd\u003e0.086327\u003c/td\u003e\n",
              "      \u003ctd\u003e0.046880\u003c/td\u003e\n",
              "      \u003ctd\u003e0.480740\u003c/td\u003e\n",
              "      \u003ctd\u003e0.0\u003c/td\u003e\n",
              "      \u003ctd\u003e0.993864\u003c/td\u003e\n",
              "      \u003ctd\u003e0.048327\u003c/td\u003e\n",
              "      \u003ctd\u003e0.100888\u003c/td\u003e\n",
              "      \u003ctd\u003e0.979630\u003c/td\u003e\n",
              "      \u003ctd\u003e0.551382\u003c/td\u003e\n",
              "      \u003ctd\u003e0.0\u003c/td\u003e\n",
              "      \u003ctd\u003e0.991428\u003c/td\u003e\n",
              "      \u003ctd\u003e0.171082\u003c/td\u003e\n",
              "      \u003ctd\u003e0.137402\u003c/td\u003e\n",
              "      \u003ctd\u003e0.0\u003c/td\u003e\n",
              "      \u003ctd\u003e0.046681\u003c/td\u003e\n",
              "      \u003ctd\u003e0.0\u003c/td\u003e\n",
              "      \u003ctd\u003e0.148146\u003c/td\u003e\n",
              "      \u003ctd\u003e0.600269\u003c/td\u003e\n",
              "      \u003ctd\u003e0.154080\u003c/td\u003e\n",
              "      \u003ctd\u003e0.0\u003c/td\u003e\n",
              "      \u003ctd\u003e0.0\u003c/td\u003e\n",
              "      \u003ctd\u003e0.0\u003c/td\u003e\n",
              "      \u003ctd\u003e2.237273\u003c/td\u003e\n",
              "      \u003ctd\u003e2.122929\u003c/td\u003e\n",
              "      \u003ctd\u003e2.499736\u003c/td\u003e\n",
              "      \u003ctd\u003e0.0\u003c/td\u003e\n",
              "      \u003ctd\u003e0.383054\u003c/td\u003e\n",
              "      \u003ctd\u003e0.0\u003c/td\u003e\n",
              "      \u003ctd\u003e0.799179\u003c/td\u003e\n",
              "      \u003ctd\u003e77.414314\u003c/td\u003e\n",
              "    \u003c/tr\u003e\n",
              "    \u003ctr\u003e\n",
              "      \u003cth\u003e2\u003c/th\u003e\n",
              "      \u003ctd\u003e0\u003c/td\u003e\n",
              "      \u003ctd\u003e0.0001\u003c/td\u003e\n",
              "      \u003ctd\u003e0.2\u003c/td\u003e\n",
              "      \u003ctd\u003e0.786859\u003c/td\u003e\n",
              "      \u003ctd\u003e0.0\u003c/td\u003e\n",
              "      \u003ctd\u003e0.0\u003c/td\u003e\n",
              "      \u003ctd\u003e0.001886\u003c/td\u003e\n",
              "      \u003ctd\u003e1.652766\u003c/td\u003e\n",
              "      \u003ctd\u003e2.390218\u003c/td\u003e\n",
              "      \u003ctd\u003e1.460888\u003c/td\u003e\n",
              "      \u003ctd\u003e0.120001\u003c/td\u003e\n",
              "      \u003ctd\u003e0.094126\u003c/td\u003e\n",
              "      \u003ctd\u003e0.0\u003c/td\u003e\n",
              "      \u003ctd\u003e1.646068\u003c/td\u003e\n",
              "      \u003ctd\u003e0.789263\u003c/td\u003e\n",
              "      \u003ctd\u003e0.0\u003c/td\u003e\n",
              "      \u003ctd\u003e0.081662\u003c/td\u003e\n",
              "      \u003ctd\u003e-1.411289\u003c/td\u003e\n",
              "      \u003ctd\u003e0.149738\u003c/td\u003e\n",
              "      \u003ctd\u003e0.067726\u003c/td\u003e\n",
              "      \u003ctd\u003e0.139817\u003c/td\u003e\n",
              "      \u003ctd\u003e0.083639\u003c/td\u003e\n",
              "      \u003ctd\u003e2.018298\u003c/td\u003e\n",
              "      \u003ctd\u003e0.670007\u003c/td\u003e\n",
              "      \u003ctd\u003e2.315343\u003c/td\u003e\n",
              "      \u003ctd\u003e1.729684\u003c/td\u003e\n",
              "      \u003ctd\u003e0.999745\u003c/td\u003e\n",
              "      \u003ctd\u003e0.080184\u003c/td\u003e\n",
              "      \u003ctd\u003e1.115491\u003c/td\u003e\n",
              "      \u003ctd\u003e0.0\u003c/td\u003e\n",
              "      \u003ctd\u003e0.0\u003c/td\u003e\n",
              "      \u003ctd\u003e0.078072\u003c/td\u003e\n",
              "      \u003ctd\u003e0.0\u003c/td\u003e\n",
              "      \u003ctd\u003e3.117989\u003c/td\u003e\n",
              "      \u003ctd\u003e0.186924\u003c/td\u003e\n",
              "      \u003ctd\u003e0.703225\u003c/td\u003e\n",
              "      \u003ctd\u003e0.588141\u003c/td\u003e\n",
              "      \u003ctd\u003e0.786458\u003c/td\u003e\n",
              "      \u003ctd\u003e0.0\u003c/td\u003e\n",
              "      \u003ctd\u003e0.000106\u003c/td\u003e\n",
              "      \u003ctd\u003e...\u003c/td\u003e\n",
              "      \u003ctd\u003e0.128142\u003c/td\u003e\n",
              "      \u003ctd\u003e0.0\u003c/td\u003e\n",
              "      \u003ctd\u003e0.0\u003c/td\u003e\n",
              "      \u003ctd\u003e3.278863\u003c/td\u003e\n",
              "      \u003ctd\u003e0.096770\u003c/td\u003e\n",
              "      \u003ctd\u003e0.094903\u003c/td\u003e\n",
              "      \u003ctd\u003e0.785757\u003c/td\u003e\n",
              "      \u003ctd\u003e2.663439\u003c/td\u003e\n",
              "      \u003ctd\u003e0.462060\u003c/td\u003e\n",
              "      \u003ctd\u003e0.145329\u003c/td\u003e\n",
              "      \u003ctd\u003e0.100243\u003c/td\u003e\n",
              "      \u003ctd\u003e0.101490\u003c/td\u003e\n",
              "      \u003ctd\u003e0.466052\u003c/td\u003e\n",
              "      \u003ctd\u003e0.0\u003c/td\u003e\n",
              "      \u003ctd\u003e1.607951\u003c/td\u003e\n",
              "      \u003ctd\u003e0.097844\u003c/td\u003e\n",
              "      \u003ctd\u003e0.199983\u003c/td\u003e\n",
              "      \u003ctd\u003e1.116207\u003c/td\u003e\n",
              "      \u003ctd\u003e0.534585\u003c/td\u003e\n",
              "      \u003ctd\u003e0.0\u003c/td\u003e\n",
              "      \u003ctd\u003e1.118777\u003c/td\u003e\n",
              "      \u003ctd\u003e0.164414\u003c/td\u003e\n",
              "      \u003ctd\u003e0.135899\u003c/td\u003e\n",
              "      \u003ctd\u003e0.0\u003c/td\u003e\n",
              "      \u003ctd\u003e0.093149\u003c/td\u003e\n",
              "      \u003ctd\u003e0.0\u003c/td\u003e\n",
              "      \u003ctd\u003e0.129305\u003c/td\u003e\n",
              "      \u003ctd\u003e0.585407\u003c/td\u003e\n",
              "      \u003ctd\u003e0.148140\u003c/td\u003e\n",
              "      \u003ctd\u003e0.0\u003c/td\u003e\n",
              "      \u003ctd\u003e0.0\u003c/td\u003e\n",
              "      \u003ctd\u003e0.0\u003c/td\u003e\n",
              "      \u003ctd\u003e2.382426\u003c/td\u003e\n",
              "      \u003ctd\u003e2.058005\u003c/td\u003e\n",
              "      \u003ctd\u003e2.408658\u003c/td\u003e\n",
              "      \u003ctd\u003e0.0\u003c/td\u003e\n",
              "      \u003ctd\u003e0.368537\u003c/td\u003e\n",
              "      \u003ctd\u003e0.0\u003c/td\u003e\n",
              "      \u003ctd\u003e0.790665\u003c/td\u003e\n",
              "      \u003ctd\u003e77.478539\u003c/td\u003e\n",
              "    \u003c/tr\u003e\n",
              "    \u003ctr\u003e\n",
              "      \u003cth\u003e3\u003c/th\u003e\n",
              "      \u003ctd\u003e0\u003c/td\u003e\n",
              "      \u003ctd\u003e0.0001\u003c/td\u003e\n",
              "      \u003ctd\u003e0.5\u003c/td\u003e\n",
              "      \u003ctd\u003e0.787360\u003c/td\u003e\n",
              "      \u003ctd\u003e0.0\u003c/td\u003e\n",
              "      \u003ctd\u003e0.0\u003c/td\u003e\n",
              "      \u003ctd\u003e0.001294\u003c/td\u003e\n",
              "      \u003ctd\u003e1.646022\u003c/td\u003e\n",
              "      \u003ctd\u003e2.399464\u003c/td\u003e\n",
              "      \u003ctd\u003e1.796688\u003c/td\u003e\n",
              "      \u003ctd\u003e0.214125\u003c/td\u003e\n",
              "      \u003ctd\u003e0.341649\u003c/td\u003e\n",
              "      \u003ctd\u003e0.0\u003c/td\u003e\n",
              "      \u003ctd\u003e1.942974\u003c/td\u003e\n",
              "      \u003ctd\u003e0.787059\u003c/td\u003e\n",
              "      \u003ctd\u003e0.0\u003c/td\u003e\n",
              "      \u003ctd\u003e0.273588\u003c/td\u003e\n",
              "      \u003ctd\u003e-2.970406\u003c/td\u003e\n",
              "      \u003ctd\u003e0.183550\u003c/td\u003e\n",
              "      \u003ctd\u003e0.234300\u003c/td\u003e\n",
              "      \u003ctd\u003e0.160688\u003c/td\u003e\n",
              "      \u003ctd\u003e0.305568\u003c/td\u003e\n",
              "      \u003ctd\u003e2.287945\u003c/td\u003e\n",
              "      \u003ctd\u003e0.675369\u003c/td\u003e\n",
              "      \u003ctd\u003e2.550430\u003c/td\u003e\n",
              "      \u003ctd\u003e2.027308\u003c/td\u003e\n",
              "      \u003ctd\u003e0.999735\u003c/td\u003e\n",
              "      \u003ctd\u003e0.059707\u003c/td\u003e\n",
              "      \u003ctd\u003e1.496099\u003c/td\u003e\n",
              "      \u003ctd\u003e0.0\u003c/td\u003e\n",
              "      \u003ctd\u003e0.0\u003c/td\u003e\n",
              "      \u003ctd\u003e0.193894\u003c/td\u003e\n",
              "      \u003ctd\u003e0.0\u003c/td\u003e\n",
              "      \u003ctd\u003e3.166413\u003c/td\u003e\n",
              "      \u003ctd\u003e0.232881\u003c/td\u003e\n",
              "      \u003ctd\u003e0.711538\u003c/td\u003e\n",
              "      \u003ctd\u003e0.592648\u003c/td\u003e\n",
              "      \u003ctd\u003e0.786609\u003c/td\u003e\n",
              "      \u003ctd\u003e0.0\u003c/td\u003e\n",
              "      \u003ctd\u003e0.000190\u003c/td\u003e\n",
              "      \u003ctd\u003e...\u003c/td\u003e\n",
              "      \u003ctd\u003e0.219960\u003c/td\u003e\n",
              "      \u003ctd\u003e0.0\u003c/td\u003e\n",
              "      \u003ctd\u003e0.0\u003c/td\u003e\n",
              "      \u003ctd\u003e3.301438\u003c/td\u003e\n",
              "      \u003ctd\u003e0.343375\u003c/td\u003e\n",
              "      \u003ctd\u003e0.111139\u003c/td\u003e\n",
              "      \u003ctd\u003e0.785557\u003c/td\u003e\n",
              "      \u003ctd\u003e2.697077\u003c/td\u003e\n",
              "      \u003ctd\u003e0.466863\u003c/td\u003e\n",
              "      \u003ctd\u003e0.201729\u003c/td\u003e\n",
              "      \u003ctd\u003e0.238462\u003c/td\u003e\n",
              "      \u003ctd\u003e0.352371\u003c/td\u003e\n",
              "      \u003ctd\u003e0.473693\u003c/td\u003e\n",
              "      \u003ctd\u003e0.0\u003c/td\u003e\n",
              "      \u003ctd\u003e3.077168\u003c/td\u003e\n",
              "      \u003ctd\u003e0.341290\u003c/td\u003e\n",
              "      \u003ctd\u003e0.497049\u003c/td\u003e\n",
              "      \u003ctd\u003e1.496982\u003c/td\u003e\n",
              "      \u003ctd\u003e0.542162\u003c/td\u003e\n",
              "      \u003ctd\u003e0.0\u003c/td\u003e\n",
              "      \u003ctd\u003e1.494854\u003c/td\u003e\n",
              "      \u003ctd\u003e0.202422\u003c/td\u003e\n",
              "      \u003ctd\u003e0.164610\u003c/td\u003e\n",
              "      \u003ctd\u003e0.0\u003c/td\u003e\n",
              "      \u003ctd\u003e0.342637\u003c/td\u003e\n",
              "      \u003ctd\u003e0.0\u003c/td\u003e\n",
              "      \u003ctd\u003e0.092007\u003c/td\u003e\n",
              "      \u003ctd\u003e0.590001\u003c/td\u003e\n",
              "      \u003ctd\u003e0.182260\u003c/td\u003e\n",
              "      \u003ctd\u003e0.0\u003c/td\u003e\n",
              "      \u003ctd\u003e0.0\u003c/td\u003e\n",
              "      \u003ctd\u003e0.0\u003c/td\u003e\n",
              "      \u003ctd\u003e2.546622\u003c/td\u003e\n",
              "      \u003ctd\u003e2.066369\u003c/td\u003e\n",
              "      \u003ctd\u003e2.422074\u003c/td\u003e\n",
              "      \u003ctd\u003e0.0\u003c/td\u003e\n",
              "      \u003ctd\u003e0.375412\u003c/td\u003e\n",
              "      \u003ctd\u003e0.0\u003c/td\u003e\n",
              "      \u003ctd\u003e0.792768\u003c/td\u003e\n",
              "      \u003ctd\u003e74.978485\u003c/td\u003e\n",
              "    \u003c/tr\u003e\n",
              "    \u003ctr\u003e\n",
              "      \u003cth\u003e4\u003c/th\u003e\n",
              "      \u003ctd\u003e0\u003c/td\u003e\n",
              "      \u003ctd\u003e0.0001\u003c/td\u003e\n",
              "      \u003ctd\u003e0.7\u003c/td\u003e\n",
              "      \u003ctd\u003e0.781951\u003c/td\u003e\n",
              "      \u003ctd\u003e0.0\u003c/td\u003e\n",
              "      \u003ctd\u003e0.0\u003c/td\u003e\n",
              "      \u003ctd\u003e0.001003\u003c/td\u003e\n",
              "      \u003ctd\u003e1.619857\u003c/td\u003e\n",
              "      \u003ctd\u003e2.362887\u003c/td\u003e\n",
              "      \u003ctd\u003e2.135288\u003c/td\u003e\n",
              "      \u003ctd\u003e0.325489\u003c/td\u003e\n",
              "      \u003ctd\u003e0.502517\u003c/td\u003e\n",
              "      \u003ctd\u003e0.0\u003c/td\u003e\n",
              "      \u003ctd\u003e2.280437\u003c/td\u003e\n",
              "      \u003ctd\u003e0.777644\u003c/td\u003e\n",
              "      \u003ctd\u003e0.0\u003c/td\u003e\n",
              "      \u003ctd\u003e0.414963\u003c/td\u003e\n",
              "      \u003ctd\u003e-3.803018\u003c/td\u003e\n",
              "      \u003ctd\u003e0.229052\u003c/td\u003e\n",
              "      \u003ctd\u003e0.379540\u003c/td\u003e\n",
              "      \u003ctd\u003e0.195359\u003c/td\u003e\n",
              "      \u003ctd\u003e0.464091\u003c/td\u003e\n",
              "      \u003ctd\u003e2.521751\u003c/td\u003e\n",
              "      \u003ctd\u003e0.670785\u003c/td\u003e\n",
              "      \u003ctd\u003e2.733941\u003c/td\u003e\n",
              "      \u003ctd\u003e2.323847\u003c/td\u003e\n",
              "      \u003ctd\u003e0.999760\u003c/td\u003e\n",
              "      \u003ctd\u003e0.052651\u003c/td\u003e\n",
              "      \u003ctd\u003e1.897982\u003c/td\u003e\n",
              "      \u003ctd\u003e0.0\u003c/td\u003e\n",
              "      \u003ctd\u003e0.0\u003c/td\u003e\n",
              "      \u003ctd\u003e0.332925\u003c/td\u003e\n",
              "      \u003ctd\u003e0.0\u003c/td\u003e\n",
              "      \u003ctd\u003e3.294184\u003c/td\u003e\n",
              "      \u003ctd\u003e0.281316\u003c/td\u003e\n",
              "      \u003ctd\u003e0.713141\u003c/td\u003e\n",
              "      \u003ctd\u003e0.604968\u003c/td\u003e\n",
              "      \u003ctd\u003e0.781826\u003c/td\u003e\n",
              "      \u003ctd\u003e0.0\u003c/td\u003e\n",
              "      \u003ctd\u003e0.000093\u003c/td\u003e\n",
              "      \u003ctd\u003e...\u003c/td\u003e\n",
              "      \u003ctd\u003e0.324271\u003c/td\u003e\n",
              "      \u003ctd\u003e0.0\u003c/td\u003e\n",
              "      \u003ctd\u003e0.0\u003c/td\u003e\n",
              "      \u003ctd\u003e3.227941\u003c/td\u003e\n",
              "      \u003ctd\u003e0.508226\u003c/td\u003e\n",
              "      \u003ctd\u003e0.144628\u003c/td\u003e\n",
              "      \u003ctd\u003e0.783554\u003c/td\u003e\n",
              "      \u003ctd\u003e2.643754\u003c/td\u003e\n",
              "      \u003ctd\u003e0.463153\u003c/td\u003e\n",
              "      \u003ctd\u003e0.285100\u003c/td\u003e\n",
              "      \u003ctd\u003e0.365912\u003c/td\u003e\n",
              "      \u003ctd\u003e0.522972\u003c/td\u003e\n",
              "      \u003ctd\u003e0.474312\u003c/td\u003e\n",
              "      \u003ctd\u003e0.0\u003c/td\u003e\n",
              "      \u003ctd\u003e3.858894\u003c/td\u003e\n",
              "      \u003ctd\u003e0.509290\u003c/td\u003e\n",
              "      \u003ctd\u003e0.694861\u003c/td\u003e\n",
              "      \u003ctd\u003e1.901357\u003c/td\u003e\n",
              "      \u003ctd\u003e0.542338\u003c/td\u003e\n",
              "      \u003ctd\u003e0.0\u003c/td\u003e\n",
              "      \u003ctd\u003e1.901964\u003c/td\u003e\n",
              "      \u003ctd\u003e0.249552\u003c/td\u003e\n",
              "      \u003ctd\u003e0.210268\u003c/td\u003e\n",
              "      \u003ctd\u003e0.0\u003c/td\u003e\n",
              "      \u003ctd\u003e0.509771\u003c/td\u003e\n",
              "      \u003ctd\u003e0.0\u003c/td\u003e\n",
              "      \u003ctd\u003e0.083752\u003c/td\u003e\n",
              "      \u003ctd\u003e0.582263\u003c/td\u003e\n",
              "      \u003ctd\u003e0.230820\u003c/td\u003e\n",
              "      \u003ctd\u003e0.0\u003c/td\u003e\n",
              "      \u003ctd\u003e0.0\u003c/td\u003e\n",
              "      \u003ctd\u003e0.0\u003c/td\u003e\n",
              "      \u003ctd\u003e2.788305\u003c/td\u003e\n",
              "      \u003ctd\u003e2.037602\u003c/td\u003e\n",
              "      \u003ctd\u003e2.378408\u003c/td\u003e\n",
              "      \u003ctd\u003e0.0\u003c/td\u003e\n",
              "      \u003ctd\u003e0.376279\u003c/td\u003e\n",
              "      \u003ctd\u003e0.0\u003c/td\u003e\n",
              "      \u003ctd\u003e0.793069\u003c/td\u003e\n",
              "      \u003ctd\u003e72.257957\u003c/td\u003e\n",
              "    \u003c/tr\u003e\n",
              "    \u003ctr\u003e\n",
              "      \u003cth\u003e...\u003c/th\u003e\n",
              "      \u003ctd\u003e...\u003c/td\u003e\n",
              "      \u003ctd\u003e...\u003c/td\u003e\n",
              "      \u003ctd\u003e...\u003c/td\u003e\n",
              "      \u003ctd\u003e...\u003c/td\u003e\n",
              "      \u003ctd\u003e...\u003c/td\u003e\n",
              "      \u003ctd\u003e...\u003c/td\u003e\n",
              "      \u003ctd\u003e...\u003c/td\u003e\n",
              "      \u003ctd\u003e...\u003c/td\u003e\n",
              "      \u003ctd\u003e...\u003c/td\u003e\n",
              "      \u003ctd\u003e...\u003c/td\u003e\n",
              "      \u003ctd\u003e...\u003c/td\u003e\n",
              "      \u003ctd\u003e...\u003c/td\u003e\n",
              "      \u003ctd\u003e...\u003c/td\u003e\n",
              "      \u003ctd\u003e...\u003c/td\u003e\n",
              "      \u003ctd\u003e...\u003c/td\u003e\n",
              "      \u003ctd\u003e...\u003c/td\u003e\n",
              "      \u003ctd\u003e...\u003c/td\u003e\n",
              "      \u003ctd\u003e...\u003c/td\u003e\n",
              "      \u003ctd\u003e...\u003c/td\u003e\n",
              "      \u003ctd\u003e...\u003c/td\u003e\n",
              "      \u003ctd\u003e...\u003c/td\u003e\n",
              "      \u003ctd\u003e...\u003c/td\u003e\n",
              "      \u003ctd\u003e...\u003c/td\u003e\n",
              "      \u003ctd\u003e...\u003c/td\u003e\n",
              "      \u003ctd\u003e...\u003c/td\u003e\n",
              "      \u003ctd\u003e...\u003c/td\u003e\n",
              "      \u003ctd\u003e...\u003c/td\u003e\n",
              "      \u003ctd\u003e...\u003c/td\u003e\n",
              "      \u003ctd\u003e...\u003c/td\u003e\n",
              "      \u003ctd\u003e...\u003c/td\u003e\n",
              "      \u003ctd\u003e...\u003c/td\u003e\n",
              "      \u003ctd\u003e...\u003c/td\u003e\n",
              "      \u003ctd\u003e...\u003c/td\u003e\n",
              "      \u003ctd\u003e...\u003c/td\u003e\n",
              "      \u003ctd\u003e...\u003c/td\u003e\n",
              "      \u003ctd\u003e...\u003c/td\u003e\n",
              "      \u003ctd\u003e...\u003c/td\u003e\n",
              "      \u003ctd\u003e...\u003c/td\u003e\n",
              "      \u003ctd\u003e...\u003c/td\u003e\n",
              "      \u003ctd\u003e...\u003c/td\u003e\n",
              "      \u003ctd\u003e...\u003c/td\u003e\n",
              "      \u003ctd\u003e...\u003c/td\u003e\n",
              "      \u003ctd\u003e...\u003c/td\u003e\n",
              "      \u003ctd\u003e...\u003c/td\u003e\n",
              "      \u003ctd\u003e...\u003c/td\u003e\n",
              "      \u003ctd\u003e...\u003c/td\u003e\n",
              "      \u003ctd\u003e...\u003c/td\u003e\n",
              "      \u003ctd\u003e...\u003c/td\u003e\n",
              "      \u003ctd\u003e...\u003c/td\u003e\n",
              "      \u003ctd\u003e...\u003c/td\u003e\n",
              "      \u003ctd\u003e...\u003c/td\u003e\n",
              "      \u003ctd\u003e...\u003c/td\u003e\n",
              "      \u003ctd\u003e...\u003c/td\u003e\n",
              "      \u003ctd\u003e...\u003c/td\u003e\n",
              "      \u003ctd\u003e...\u003c/td\u003e\n",
              "      \u003ctd\u003e...\u003c/td\u003e\n",
              "      \u003ctd\u003e...\u003c/td\u003e\n",
              "      \u003ctd\u003e...\u003c/td\u003e\n",
              "      \u003ctd\u003e...\u003c/td\u003e\n",
              "      \u003ctd\u003e...\u003c/td\u003e\n",
              "      \u003ctd\u003e...\u003c/td\u003e\n",
              "      \u003ctd\u003e...\u003c/td\u003e\n",
              "      \u003ctd\u003e...\u003c/td\u003e\n",
              "      \u003ctd\u003e...\u003c/td\u003e\n",
              "      \u003ctd\u003e...\u003c/td\u003e\n",
              "      \u003ctd\u003e...\u003c/td\u003e\n",
              "      \u003ctd\u003e...\u003c/td\u003e\n",
              "      \u003ctd\u003e...\u003c/td\u003e\n",
              "      \u003ctd\u003e...\u003c/td\u003e\n",
              "      \u003ctd\u003e...\u003c/td\u003e\n",
              "      \u003ctd\u003e...\u003c/td\u003e\n",
              "      \u003ctd\u003e...\u003c/td\u003e\n",
              "      \u003ctd\u003e...\u003c/td\u003e\n",
              "      \u003ctd\u003e...\u003c/td\u003e\n",
              "      \u003ctd\u003e...\u003c/td\u003e\n",
              "      \u003ctd\u003e...\u003c/td\u003e\n",
              "      \u003ctd\u003e...\u003c/td\u003e\n",
              "      \u003ctd\u003e...\u003c/td\u003e\n",
              "      \u003ctd\u003e...\u003c/td\u003e\n",
              "      \u003ctd\u003e...\u003c/td\u003e\n",
              "      \u003ctd\u003e...\u003c/td\u003e\n",
              "    \u003c/tr\u003e\n",
              "    \u003ctr\u003e\n",
              "      \u003cth\u003e58\u003c/th\u003e\n",
              "      \u003ctd\u003e2\u003c/td\u003e\n",
              "      \u003ctd\u003e0.0003\u003c/td\u003e\n",
              "      \u003ctd\u003e0.2\u003c/td\u003e\n",
              "      \u003ctd\u003e0.799179\u003c/td\u003e\n",
              "      \u003ctd\u003e0.0\u003c/td\u003e\n",
              "      \u003ctd\u003e0.0\u003c/td\u003e\n",
              "      \u003ctd\u003e0.002683\u003c/td\u003e\n",
              "      \u003ctd\u003e1.717410\u003c/td\u003e\n",
              "      \u003ctd\u003e2.482653\u003c/td\u003e\n",
              "      \u003ctd\u003e1.354973\u003c/td\u003e\n",
              "      \u003ctd\u003e0.113762\u003c/td\u003e\n",
              "      \u003ctd\u003e0.101872\u003c/td\u003e\n",
              "      \u003ctd\u003e0.0\u003c/td\u003e\n",
              "      \u003ctd\u003e1.555904\u003c/td\u003e\n",
              "      \u003ctd\u003e0.799880\u003c/td\u003e\n",
              "      \u003ctd\u003e0.0\u003c/td\u003e\n",
              "      \u003ctd\u003e0.077635\u003c/td\u003e\n",
              "      \u003ctd\u003e-1.413501\u003c/td\u003e\n",
              "      \u003ctd\u003e0.150796\u003c/td\u003e\n",
              "      \u003ctd\u003e0.074682\u003c/td\u003e\n",
              "      \u003ctd\u003e0.097025\u003c/td\u003e\n",
              "      \u003ctd\u003e0.086347\u003c/td\u003e\n",
              "      \u003ctd\u003e1.863514\u003c/td\u003e\n",
              "      \u003ctd\u003e0.681932\u003c/td\u003e\n",
              "      \u003ctd\u003e2.143801\u003c/td\u003e\n",
              "      \u003ctd\u003e1.590115\u003c/td\u003e\n",
              "      \u003ctd\u003e0.999669\u003c/td\u003e\n",
              "      \u003ctd\u003e0.078651\u003c/td\u003e\n",
              "      \u003ctd\u003e1.041770\u003c/td\u003e\n",
              "      \u003ctd\u003e0.0\u003c/td\u003e\n",
              "      \u003ctd\u003e0.0\u003c/td\u003e\n",
              "      \u003ctd\u003e0.075419\u003c/td\u003e\n",
              "      \u003ctd\u003e0.0\u003c/td\u003e\n",
              "      \u003ctd\u003e2.810682\u003c/td\u003e\n",
              "      \u003ctd\u003e0.191600\u003c/td\u003e\n",
              "      \u003ctd\u003e0.720252\u003c/td\u003e\n",
              "      \u003ctd\u003e0.605569\u003c/td\u003e\n",
              "      \u003ctd\u003e0.799254\u003c/td\u003e\n",
              "      \u003ctd\u003e0.0\u003c/td\u003e\n",
              "      \u003ctd\u003e0.000092\u003c/td\u003e\n",
              "      \u003ctd\u003e...\u003c/td\u003e\n",
              "      \u003ctd\u003e0.121467\u003c/td\u003e\n",
              "      \u003ctd\u003e0.0\u003c/td\u003e\n",
              "      \u003ctd\u003e0.0\u003c/td\u003e\n",
              "      \u003ctd\u003e3.457933\u003c/td\u003e\n",
              "      \u003ctd\u003e0.097468\u003c/td\u003e\n",
              "      \u003ctd\u003e0.085831\u003c/td\u003e\n",
              "      \u003ctd\u003e0.799279\u003c/td\u003e\n",
              "      \u003ctd\u003e2.774253\u003c/td\u003e\n",
              "      \u003ctd\u003e0.475252\u003c/td\u003e\n",
              "      \u003ctd\u003e0.136826\u003c/td\u003e\n",
              "      \u003ctd\u003e0.094466\u003c/td\u003e\n",
              "      \u003ctd\u003e0.105852\u003c/td\u003e\n",
              "      \u003ctd\u003e0.479803\u003c/td\u003e\n",
              "      \u003ctd\u003e0.0\u003c/td\u003e\n",
              "      \u003ctd\u003e1.714608\u003c/td\u003e\n",
              "      \u003ctd\u003e0.098613\u003c/td\u003e\n",
              "      \u003ctd\u003e0.201711\u003c/td\u003e\n",
              "      \u003ctd\u003e1.042753\u003c/td\u003e\n",
              "      \u003ctd\u003e0.544371\u003c/td\u003e\n",
              "      \u003ctd\u003e0.0\u003c/td\u003e\n",
              "      \u003ctd\u003e1.043487\u003c/td\u003e\n",
              "      \u003ctd\u003e0.165467\u003c/td\u003e\n",
              "      \u003ctd\u003e0.136257\u003c/td\u003e\n",
              "      \u003ctd\u003e0.0\u003c/td\u003e\n",
              "      \u003ctd\u003e0.101719\u003c/td\u003e\n",
              "      \u003ctd\u003e0.0\u003c/td\u003e\n",
              "      \u003ctd\u003e0.129320\u003c/td\u003e\n",
              "      \u003ctd\u003e0.594553\u003c/td\u003e\n",
              "      \u003ctd\u003e0.149909\u003c/td\u003e\n",
              "      \u003ctd\u003e0.0\u003c/td\u003e\n",
              "      \u003ctd\u003e0.0\u003c/td\u003e\n",
              "      \u003ctd\u003e0.0\u003c/td\u003e\n",
              "      \u003ctd\u003e2.273827\u003c/td\u003e\n",
              "      \u003ctd\u003e2.157534\u003c/td\u003e\n",
              "      \u003ctd\u003e2.517957\u003c/td\u003e\n",
              "      \u003ctd\u003e0.0\u003c/td\u003e\n",
              "      \u003ctd\u003e0.384014\u003c/td\u003e\n",
              "      \u003ctd\u003e0.0\u003c/td\u003e\n",
              "      \u003ctd\u003e0.802083\u003c/td\u003e\n",
              "      \u003ctd\u003e76.044479\u003c/td\u003e\n",
              "    \u003c/tr\u003e\n",
              "    \u003ctr\u003e\n",
              "      \u003cth\u003e59\u003c/th\u003e\n",
              "      \u003ctd\u003e2\u003c/td\u003e\n",
              "      \u003ctd\u003e0.0003\u003c/td\u003e\n",
              "      \u003ctd\u003e0.5\u003c/td\u003e\n",
              "      \u003ctd\u003e0.793470\u003c/td\u003e\n",
              "      \u003ctd\u003e0.0\u003c/td\u003e\n",
              "      \u003ctd\u003e0.0\u003c/td\u003e\n",
              "      \u003ctd\u003e0.001681\u003c/td\u003e\n",
              "      \u003ctd\u003e1.697140\u003c/td\u003e\n",
              "      \u003ctd\u003e2.443785\u003c/td\u003e\n",
              "      \u003ctd\u003e1.743232\u003c/td\u003e\n",
              "      \u003ctd\u003e0.210163\u003c/td\u003e\n",
              "      \u003ctd\u003e0.341266\u003c/td\u003e\n",
              "      \u003ctd\u003e0.0\u003c/td\u003e\n",
              "      \u003ctd\u003e1.894221\u003c/td\u003e\n",
              "      \u003ctd\u003e0.794872\u003c/td\u003e\n",
              "      \u003ctd\u003e0.0\u003c/td\u003e\n",
              "      \u003ctd\u003e0.268338\u003c/td\u003e\n",
              "      \u003ctd\u003e-2.972446\u003c/td\u003e\n",
              "      \u003ctd\u003e0.176203\u003c/td\u003e\n",
              "      \u003ctd\u003e0.230928\u003c/td\u003e\n",
              "      \u003ctd\u003e0.152518\u003c/td\u003e\n",
              "      \u003ctd\u003e0.298948\u003c/td\u003e\n",
              "      \u003ctd\u003e2.219264\u003c/td\u003e\n",
              "      \u003ctd\u003e0.679081\u003c/td\u003e\n",
              "      \u003ctd\u003e2.461074\u003c/td\u003e\n",
              "      \u003ctd\u003e1.968480\u003c/td\u003e\n",
              "      \u003ctd\u003e0.999785\u003c/td\u003e\n",
              "      \u003ctd\u003e0.052863\u003c/td\u003e\n",
              "      \u003ctd\u003e1.440291\u003c/td\u003e\n",
              "      \u003ctd\u003e0.0\u003c/td\u003e\n",
              "      \u003ctd\u003e0.0\u003c/td\u003e\n",
              "      \u003ctd\u003e0.197709\u003c/td\u003e\n",
              "      \u003ctd\u003e0.0\u003c/td\u003e\n",
              "      \u003ctd\u003e3.050216\u003c/td\u003e\n",
              "      \u003ctd\u003e0.227247\u003c/td\u003e\n",
              "      \u003ctd\u003e0.712139\u003c/td\u003e\n",
              "      \u003ctd\u003e0.598357\u003c/td\u003e\n",
              "      \u003ctd\u003e0.793445\u003c/td\u003e\n",
              "      \u003ctd\u003e0.0\u003c/td\u003e\n",
              "      \u003ctd\u003e0.000147\u003c/td\u003e\n",
              "      \u003ctd\u003e...\u003c/td\u003e\n",
              "      \u003ctd\u003e0.216573\u003c/td\u003e\n",
              "      \u003ctd\u003e0.0\u003c/td\u003e\n",
              "      \u003ctd\u003e0.0\u003c/td\u003e\n",
              "      \u003ctd\u003e3.369008\u003c/td\u003e\n",
              "      \u003ctd\u003e0.340960\u003c/td\u003e\n",
              "      \u003ctd\u003e0.099652\u003c/td\u003e\n",
              "      \u003ctd\u003e0.792167\u003c/td\u003e\n",
              "      \u003ctd\u003e2.745565\u003c/td\u003e\n",
              "      \u003ctd\u003e0.472160\u003c/td\u003e\n",
              "      \u003ctd\u003e0.198492\u003c/td\u003e\n",
              "      \u003ctd\u003e0.234889\u003c/td\u003e\n",
              "      \u003ctd\u003e0.347872\u003c/td\u003e\n",
              "      \u003ctd\u003e0.478153\u003c/td\u003e\n",
              "      \u003ctd\u003e0.0\u003c/td\u003e\n",
              "      \u003ctd\u003e3.148517\u003c/td\u003e\n",
              "      \u003ctd\u003e0.339725\u003c/td\u003e\n",
              "      \u003ctd\u003e0.499134\u003c/td\u003e\n",
              "      \u003ctd\u003e1.443435\u003c/td\u003e\n",
              "      \u003ctd\u003e0.545113\u003c/td\u003e\n",
              "      \u003ctd\u003e0.0\u003c/td\u003e\n",
              "      \u003ctd\u003e1.440171\u003c/td\u003e\n",
              "      \u003ctd\u003e0.194557\u003c/td\u003e\n",
              "      \u003ctd\u003e0.157225\u003c/td\u003e\n",
              "      \u003ctd\u003e0.0\u003c/td\u003e\n",
              "      \u003ctd\u003e0.339165\u003c/td\u003e\n",
              "      \u003ctd\u003e0.0\u003c/td\u003e\n",
              "      \u003ctd\u003e0.084649\u003c/td\u003e\n",
              "      \u003ctd\u003e0.594762\u003c/td\u003e\n",
              "      \u003ctd\u003e0.175213\u003c/td\u003e\n",
              "      \u003ctd\u003e0.0\u003c/td\u003e\n",
              "      \u003ctd\u003e0.0\u003c/td\u003e\n",
              "      \u003ctd\u003e0.0\u003c/td\u003e\n",
              "      \u003ctd\u003e2.496082\u003c/td\u003e\n",
              "      \u003ctd\u003e2.124794\u003c/td\u003e\n",
              "      \u003ctd\u003e2.476058\u003c/td\u003e\n",
              "      \u003ctd\u003e0.0\u003c/td\u003e\n",
              "      \u003ctd\u003e0.382453\u003c/td\u003e\n",
              "      \u003ctd\u003e0.0\u003c/td\u003e\n",
              "      \u003ctd\u003e0.797376\u003c/td\u003e\n",
              "      \u003ctd\u003e74.379135\u003c/td\u003e\n",
              "    \u003c/tr\u003e\n",
              "    \u003ctr\u003e\n",
              "      \u003cth\u003e60\u003c/th\u003e\n",
              "      \u003ctd\u003e2\u003c/td\u003e\n",
              "      \u003ctd\u003e0.0003\u003c/td\u003e\n",
              "      \u003ctd\u003e0.7\u003c/td\u003e\n",
              "      \u003ctd\u003e0.788962\u003c/td\u003e\n",
              "      \u003ctd\u003e0.0\u003c/td\u003e\n",
              "      \u003ctd\u003e0.0\u003c/td\u003e\n",
              "      \u003ctd\u003e0.001290\u003c/td\u003e\n",
              "      \u003ctd\u003e1.661208\u003c/td\u003e\n",
              "      \u003ctd\u003e2.421926\u003c/td\u003e\n",
              "      \u003ctd\u003e2.088153\u003c/td\u003e\n",
              "      \u003ctd\u003e0.319505\u003c/td\u003e\n",
              "      \u003ctd\u003e0.506711\u003c/td\u003e\n",
              "      \u003ctd\u003e0.0\u003c/td\u003e\n",
              "      \u003ctd\u003e2.209710\u003c/td\u003e\n",
              "      \u003ctd\u003e0.791066\u003c/td\u003e\n",
              "      \u003ctd\u003e0.0\u003c/td\u003e\n",
              "      \u003ctd\u003e0.412810\u003c/td\u003e\n",
              "      \u003ctd\u003e-3.805201\u003c/td\u003e\n",
              "      \u003ctd\u003e0.202206\u003c/td\u003e\n",
              "      \u003ctd\u003e0.359780\u003c/td\u003e\n",
              "      \u003ctd\u003e0.166085\u003c/td\u003e\n",
              "      \u003ctd\u003e0.454907\u003c/td\u003e\n",
              "      \u003ctd\u003e2.528877\u003c/td\u003e\n",
              "      \u003ctd\u003e0.680677\u003c/td\u003e\n",
              "      \u003ctd\u003e2.757525\u003c/td\u003e\n",
              "      \u003ctd\u003e2.295454\u003c/td\u003e\n",
              "      \u003ctd\u003e0.999669\u003c/td\u003e\n",
              "      \u003ctd\u003e0.041600\u003c/td\u003e\n",
              "      \u003ctd\u003e1.831058\u003c/td\u003e\n",
              "      \u003ctd\u003e0.0\u003c/td\u003e\n",
              "      \u003ctd\u003e0.0\u003c/td\u003e\n",
              "      \u003ctd\u003e0.308691\u003c/td\u003e\n",
              "      \u003ctd\u003e0.0\u003c/td\u003e\n",
              "      \u003ctd\u003e3.362881\u003c/td\u003e\n",
              "      \u003ctd\u003e0.251454\u003c/td\u003e\n",
              "      \u003ctd\u003e0.714143\u003c/td\u003e\n",
              "      \u003ctd\u003e0.589944\u003c/td\u003e\n",
              "      \u003ctd\u003e0.789739\u003c/td\u003e\n",
              "      \u003ctd\u003e0.0\u003c/td\u003e\n",
              "      \u003ctd\u003e0.000176\u003c/td\u003e\n",
              "      \u003ctd\u003e...\u003c/td\u003e\n",
              "      \u003ctd\u003e0.316284\u003c/td\u003e\n",
              "      \u003ctd\u003e0.0\u003c/td\u003e\n",
              "      \u003ctd\u003e0.0\u003c/td\u003e\n",
              "      \u003ctd\u003e3.360613\u003c/td\u003e\n",
              "      \u003ctd\u003e0.504265\u003c/td\u003e\n",
              "      \u003ctd\u003e0.124675\u003c/td\u003e\n",
              "      \u003ctd\u003e0.790966\u003c/td\u003e\n",
              "      \u003ctd\u003e2.724493\u003c/td\u003e\n",
              "      \u003ctd\u003e0.466461\u003c/td\u003e\n",
              "      \u003ctd\u003e0.269715\u003c/td\u003e\n",
              "      \u003ctd\u003e0.363744\u003c/td\u003e\n",
              "      \u003ctd\u003e0.515116\u003c/td\u003e\n",
              "      \u003ctd\u003e0.474506\u003c/td\u003e\n",
              "      \u003ctd\u003e0.0\u003c/td\u003e\n",
              "      \u003ctd\u003e3.900643\u003c/td\u003e\n",
              "      \u003ctd\u003e0.502995\u003c/td\u003e\n",
              "      \u003ctd\u003e0.697107\u003c/td\u003e\n",
              "      \u003ctd\u003e1.828915\u003c/td\u003e\n",
              "      \u003ctd\u003e0.546910\u003c/td\u003e\n",
              "      \u003ctd\u003e0.0\u003c/td\u003e\n",
              "      \u003ctd\u003e1.826445\u003c/td\u003e\n",
              "      \u003ctd\u003e0.221627\u003c/td\u003e\n",
              "      \u003ctd\u003e0.183631\u003c/td\u003e\n",
              "      \u003ctd\u003e0.0\u003c/td\u003e\n",
              "      \u003ctd\u003e0.505551\u003c/td\u003e\n",
              "      \u003ctd\u003e0.0\u003c/td\u003e\n",
              "      \u003ctd\u003e0.062304\u003c/td\u003e\n",
              "      \u003ctd\u003e0.593902\u003c/td\u003e\n",
              "      \u003ctd\u003e0.202950\u003c/td\u003e\n",
              "      \u003ctd\u003e0.0\u003c/td\u003e\n",
              "      \u003ctd\u003e0.0\u003c/td\u003e\n",
              "      \u003ctd\u003e0.0\u003c/td\u003e\n",
              "      \u003ctd\u003e2.737460\u003c/td\u003e\n",
              "      \u003ctd\u003e2.078812\u003c/td\u003e\n",
              "      \u003ctd\u003e2.449411\u003c/td\u003e\n",
              "      \u003ctd\u003e0.0\u003c/td\u003e\n",
              "      \u003ctd\u003e0.373957\u003c/td\u003e\n",
              "      \u003ctd\u003e0.0\u003c/td\u003e\n",
              "      \u003ctd\u003e0.796675\u003c/td\u003e\n",
              "      \u003ctd\u003e73.327698\u003c/td\u003e\n",
              "    \u003c/tr\u003e\n",
              "    \u003ctr\u003e\n",
              "      \u003cth\u003e61\u003c/th\u003e\n",
              "      \u003ctd\u003e2\u003c/td\u003e\n",
              "      \u003ctd\u003e0.0003\u003c/td\u003e\n",
              "      \u003ctd\u003e0.9\u003c/td\u003e\n",
              "      \u003ctd\u003e0.799780\u003c/td\u003e\n",
              "      \u003ctd\u003e0.0\u003c/td\u003e\n",
              "      \u003ctd\u003e0.0\u003c/td\u003e\n",
              "      \u003ctd\u003e0.000816\u003c/td\u003e\n",
              "      \u003ctd\u003e1.804052\u003c/td\u003e\n",
              "      \u003ctd\u003e2.622714\u003c/td\u003e\n",
              "      \u003ctd\u003e2.811106\u003c/td\u003e\n",
              "      \u003ctd\u003e0.472304\u003c/td\u003e\n",
              "      \u003ctd\u003e0.691018\u003c/td\u003e\n",
              "      \u003ctd\u003e0.0\u003c/td\u003e\n",
              "      \u003ctd\u003e2.894346\u003c/td\u003e\n",
              "      \u003ctd\u003e0.797276\u003c/td\u003e\n",
              "      \u003ctd\u003e0.0\u003c/td\u003e\n",
              "      \u003ctd\u003e0.577575\u003c/td\u003e\n",
              "      \u003ctd\u003e-4.441109\u003c/td\u003e\n",
              "      \u003ctd\u003e0.214551\u003c/td\u003e\n",
              "      \u003ctd\u003e0.526615\u003c/td\u003e\n",
              "      \u003ctd\u003e0.325388\u003c/td\u003e\n",
              "      \u003ctd\u003e0.629494\u003c/td\u003e\n",
              "      \u003ctd\u003e3.113646\u003c/td\u003e\n",
              "      \u003ctd\u003e0.690434\u003c/td\u003e\n",
              "      \u003ctd\u003e3.262505\u003c/td\u003e\n",
              "      \u003ctd\u003e2.957410\u003c/td\u003e\n",
              "      \u003ctd\u003e0.999464\u003c/td\u003e\n",
              "      \u003ctd\u003e0.010138\u003c/td\u003e\n",
              "      \u003ctd\u003e2.603196\u003c/td\u003e\n",
              "      \u003ctd\u003e0.0\u003c/td\u003e\n",
              "      \u003ctd\u003e0.0\u003c/td\u003e\n",
              "      \u003ctd\u003e0.475963\u003c/td\u003e\n",
              "      \u003ctd\u003e0.0\u003c/td\u003e\n",
              "      \u003ctd\u003e3.659972\u003c/td\u003e\n",
              "      \u003ctd\u003e0.264070\u003c/td\u003e\n",
              "      \u003ctd\u003e0.725761\u003c/td\u003e\n",
              "      \u003ctd\u003e0.611679\u003c/td\u003e\n",
              "      \u003ctd\u003e0.798528\u003c/td\u003e\n",
              "      \u003ctd\u003e0.0\u003c/td\u003e\n",
              "      \u003ctd\u003e0.000315\u003c/td\u003e\n",
              "      \u003ctd\u003e...\u003c/td\u003e\n",
              "      \u003ctd\u003e0.461429\u003c/td\u003e\n",
              "      \u003ctd\u003e0.0\u003c/td\u003e\n",
              "      \u003ctd\u003e0.0\u003c/td\u003e\n",
              "      \u003ctd\u003e3.617227\u003c/td\u003e\n",
              "      \u003ctd\u003e0.692741\u003c/td\u003e\n",
              "      \u003ctd\u003e0.128905\u003c/td\u003e\n",
              "      \u003ctd\u003e0.800280\u003c/td\u003e\n",
              "      \u003ctd\u003e2.940226\u003c/td\u003e\n",
              "      \u003ctd\u003e0.475505\u003c/td\u003e\n",
              "      \u003ctd\u003e0.404793\u003c/td\u003e\n",
              "      \u003ctd\u003e0.524543\u003c/td\u003e\n",
              "      \u003ctd\u003e0.701402\u003c/td\u003e\n",
              "      \u003ctd\u003e0.486095\u003c/td\u003e\n",
              "      \u003ctd\u003e0.0\u003c/td\u003e\n",
              "      \u003ctd\u003e4.468733\u003c/td\u003e\n",
              "      \u003ctd\u003e0.690898\u003c/td\u003e\n",
              "      \u003ctd\u003e0.895266\u003c/td\u003e\n",
              "      \u003ctd\u003e2.601044\u003c/td\u003e\n",
              "      \u003ctd\u003e0.557309\u003c/td\u003e\n",
              "      \u003ctd\u003e0.0\u003c/td\u003e\n",
              "      \u003ctd\u003e2.608418\u003c/td\u003e\n",
              "      \u003ctd\u003e0.236755\u003c/td\u003e\n",
              "      \u003ctd\u003e0.195381\u003c/td\u003e\n",
              "      \u003ctd\u003e0.0\u003c/td\u003e\n",
              "      \u003ctd\u003e0.693691\u003c/td\u003e\n",
              "      \u003ctd\u003e0.0\u003c/td\u003e\n",
              "      \u003ctd\u003e0.014883\u003c/td\u003e\n",
              "      \u003ctd\u003e0.601583\u003c/td\u003e\n",
              "      \u003ctd\u003e0.215590\u003c/td\u003e\n",
              "      \u003ctd\u003e0.0\u003c/td\u003e\n",
              "      \u003ctd\u003e0.0\u003c/td\u003e\n",
              "      \u003ctd\u003e0.0\u003c/td\u003e\n",
              "      \u003ctd\u003e3.264740\u003c/td\u003e\n",
              "      \u003ctd\u003e2.252682\u003c/td\u003e\n",
              "      \u003ctd\u003e2.647380\u003c/td\u003e\n",
              "      \u003ctd\u003e0.0\u003c/td\u003e\n",
              "      \u003ctd\u003e0.385917\u003c/td\u003e\n",
              "      \u003ctd\u003e0.0\u003c/td\u003e\n",
              "      \u003ctd\u003e0.806791\u003c/td\u003e\n",
              "      \u003ctd\u003e71.305603\u003c/td\u003e\n",
              "    \u003c/tr\u003e\n",
              "    \u003ctr\u003e\n",
              "      \u003cth\u003e62\u003c/th\u003e\n",
              "      \u003ctd\u003e2\u003c/td\u003e\n",
              "      \u003ctd\u003e0.0003\u003c/td\u003e\n",
              "      \u003ctd\u003e1.0\u003c/td\u003e\n",
              "      \u003ctd\u003e0.010016\u003c/td\u003e\n",
              "      \u003ctd\u003e0.0\u003c/td\u003e\n",
              "      \u003ctd\u003e0.0\u003c/td\u003e\n",
              "      \u003ctd\u003e0.000000\u003c/td\u003e\n",
              "      \u003ctd\u003e1.010117\u003c/td\u003e\n",
              "      \u003ctd\u003e1.010117\u003c/td\u003e\n",
              "      \u003ctd\u003e4.605134\u003c/td\u003e\n",
              "      \u003ctd\u003e0.000016\u003c/td\u003e\n",
              "      \u003ctd\u003e0.000016\u003c/td\u003e\n",
              "      \u003ctd\u003e0.0\u003c/td\u003e\n",
              "      \u003ctd\u003e4.605134\u003c/td\u003e\n",
              "      \u003ctd\u003e0.010016\u003c/td\u003e\n",
              "      \u003ctd\u003e0.0\u003c/td\u003e\n",
              "      \u003ctd\u003e0.000016\u003c/td\u003e\n",
              "      \u003ctd\u003e-4.605129\u003c/td\u003e\n",
              "      \u003ctd\u003e0.000000\u003c/td\u003e\n",
              "      \u003ctd\u003e0.000016\u003c/td\u003e\n",
              "      \u003ctd\u003e0.000016\u003c/td\u003e\n",
              "      \u003ctd\u003e0.000016\u003c/td\u003e\n",
              "      \u003ctd\u003e4.605134\u003c/td\u003e\n",
              "      \u003ctd\u003e0.010016\u003c/td\u003e\n",
              "      \u003ctd\u003e4.605134\u003c/td\u003e\n",
              "      \u003ctd\u003e4.605134\u003c/td\u003e\n",
              "      \u003ctd\u003e0.010296\u003c/td\u003e\n",
              "      \u003ctd\u003e0.000000\u003c/td\u003e\n",
              "      \u003ctd\u003e4.605134\u003c/td\u003e\n",
              "      \u003ctd\u003e0.0\u003c/td\u003e\n",
              "      \u003ctd\u003e0.0\u003c/td\u003e\n",
              "      \u003ctd\u003e0.000016\u003c/td\u003e\n",
              "      \u003ctd\u003e0.0\u003c/td\u003e\n",
              "      \u003ctd\u003e4.605134\u003c/td\u003e\n",
              "      \u003ctd\u003e0.000000\u003c/td\u003e\n",
              "      \u003ctd\u003e0.010016\u003c/td\u003e\n",
              "      \u003ctd\u003e0.010016\u003c/td\u003e\n",
              "      \u003ctd\u003e0.010016\u003c/td\u003e\n",
              "      \u003ctd\u003e0.0\u003c/td\u003e\n",
              "      \u003ctd\u003e0.000000\u003c/td\u003e\n",
              "      \u003ctd\u003e...\u003c/td\u003e\n",
              "      \u003ctd\u003e0.000016\u003c/td\u003e\n",
              "      \u003ctd\u003e0.0\u003c/td\u003e\n",
              "      \u003ctd\u003e0.0\u003c/td\u003e\n",
              "      \u003ctd\u003e1.010117\u003c/td\u003e\n",
              "      \u003ctd\u003e0.000016\u003c/td\u003e\n",
              "      \u003ctd\u003e0.000000\u003c/td\u003e\n",
              "      \u003ctd\u003e0.010016\u003c/td\u003e\n",
              "      \u003ctd\u003e1.010117\u003c/td\u003e\n",
              "      \u003ctd\u003e0.010016\u003c/td\u003e\n",
              "      \u003ctd\u003e0.000016\u003c/td\u003e\n",
              "      \u003ctd\u003e0.000016\u003c/td\u003e\n",
              "      \u003ctd\u003e0.000016\u003c/td\u003e\n",
              "      \u003ctd\u003e0.010016\u003c/td\u003e\n",
              "      \u003ctd\u003e0.0\u003c/td\u003e\n",
              "      \u003ctd\u003e4.605129\u003c/td\u003e\n",
              "      \u003ctd\u003e0.000016\u003c/td\u003e\n",
              "      \u003ctd\u003e0.000485\u003c/td\u003e\n",
              "      \u003ctd\u003e4.605134\u003c/td\u003e\n",
              "      \u003ctd\u003e0.010016\u003c/td\u003e\n",
              "      \u003ctd\u003e0.0\u003c/td\u003e\n",
              "      \u003ctd\u003e4.605134\u003c/td\u003e\n",
              "      \u003ctd\u003e0.000000\u003c/td\u003e\n",
              "      \u003ctd\u003e0.000000\u003c/td\u003e\n",
              "      \u003ctd\u003e0.0\u003c/td\u003e\n",
              "      \u003ctd\u003e0.000016\u003c/td\u003e\n",
              "      \u003ctd\u003e0.0\u003c/td\u003e\n",
              "      \u003ctd\u003e0.000000\u003c/td\u003e\n",
              "      \u003ctd\u003e0.010016\u003c/td\u003e\n",
              "      \u003ctd\u003e0.000000\u003c/td\u003e\n",
              "      \u003ctd\u003e0.0\u003c/td\u003e\n",
              "      \u003ctd\u003e0.0\u003c/td\u003e\n",
              "      \u003ctd\u003e0.0\u003c/td\u003e\n",
              "      \u003ctd\u003e4.605134\u003c/td\u003e\n",
              "      \u003ctd\u003e1.010117\u003c/td\u003e\n",
              "      \u003ctd\u003e1.010117\u003c/td\u003e\n",
              "      \u003ctd\u003e0.0\u003c/td\u003e\n",
              "      \u003ctd\u003e0.010016\u003c/td\u003e\n",
              "      \u003ctd\u003e0.0\u003c/td\u003e\n",
              "      \u003ctd\u003e0.010016\u003c/td\u003e\n",
              "      \u003ctd\u003e69.780701\u003c/td\u003e\n",
              "    \u003c/tr\u003e\n",
              "  \u003c/tbody\u003e\n",
              "\u003c/table\u003e\n",
              "\u003cp\u003e63 rows × 117 columns\u003c/p\u003e\n",
              "\u003c/div\u003e"
            ],
            "text/plain": [
              "    seed      l2  ...  test_accuracy  train_similarity\n",
              "0      0  0.0001  ...            NaN               NaN\n",
              "1      0  0.0001  ...       0.799179         77.414314\n",
              "2      0  0.0001  ...       0.790665         77.478539\n",
              "3      0  0.0001  ...       0.792768         74.978485\n",
              "4      0  0.0001  ...       0.793069         72.257957\n",
              "..   ...     ...  ...            ...               ...\n",
              "58     2  0.0003  ...       0.802083         76.044479\n",
              "59     2  0.0003  ...       0.797376         74.379135\n",
              "60     2  0.0003  ...       0.796675         73.327698\n",
              "61     2  0.0003  ...       0.806791         71.305603\n",
              "62     2  0.0003  ...       0.010016         69.780701\n",
              "\n",
              "[63 rows x 117 columns]"
            ]
          },
          "execution_count": 69,
          "metadata": {
            "tags": []
          },
          "output_type": "execute_result"
        }
      ],
      "source": [
        "xid = 17568823 \n",
        "experiment_17568823 = xm_client.get_experiment(xid)\n",
        "raw_df_17568823 = get_experiment_measurements(experiment_17568823)\n",
        "raw_df_17568823"
      ]
    },
    {
      "cell_type": "code",
      "execution_count": null,
      "metadata": {
        "id": "tGYg4wzTqxjH"
      },
      "outputs": [],
      "source": [
        ""
      ]
    }
  ],
  "metadata": {
    "colab": {
      "collapsed_sections": [],
      "last_runtime": {
        "build_target": "//learning/deepmind/dm_python:dm_notebook3_tpu",
        "kind": "private"
      },
      "name": "Ensembles + Label Smoothing",
      "provenance": [
        {
          "file_id": "1JteYdYI-tgxVA-v1B-vTwZR-QOy2h9jD",
          "timestamp": 1601313256243
        },
        {
          "file_id": "14gD1KWrhNBXrbxO7a8V72VVSC56ZXG62",
          "timestamp": 1601310564031
        },
        {
          "file_id": "/piper/depot/google3/third_party/py/edward2/google/report_xm_results.ipynb",
          "timestamp": 1590874579114
        },
        {
          "file_id": "/piper/depot/google3/third_party/py/edward2/google/report_xm_results.ipynb",
          "timestamp": 1587930527166
        },
        {
          "file_id": "/piper/depot/google3/third_party/py/edward2/google/report_xm_results.ipynb",
          "timestamp": 1587527949607
        },
        {
          "file_id": "/piper/depot/google3/third_party/py/edward2/google/report_xm_results.ipynb",
          "timestamp": 1587406305591
        },
        {
          "file_id": "/piper/depot/google3/third_party/py/edward2/google/report_xm_results.ipynb",
          "timestamp": 1587159170571
        },
        {
          "file_id": "/piper/depot/google3/third_party/py/edward2/google/rank1_priors/notebooks/initialization.ipynb",
          "timestamp": 1582316353813
        },
        {
          "file_id": "14t_0jK8-vg8uTYWebZmCqvnCyzgBBllv",
          "timestamp": 1581165722417
        }
      ],
      "toc_visible": true
    },
    "kernelspec": {
      "display_name": "Python 3",
      "name": "python3"
    }
  },
  "nbformat": 4,
  "nbformat_minor": 0
}
